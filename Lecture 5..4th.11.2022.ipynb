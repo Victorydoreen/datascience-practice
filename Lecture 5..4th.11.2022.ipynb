{
 "cells": [
  {
   "cell_type": "markdown",
   "metadata": {},
   "source": [
    "# Probability distributions\n",
    "# Data generating process,\n",
    "share with me the questionnaire, your key interest, variable u are interested in, relationship u want to find with the key variable..To what distribution does this data fall into???\n",
    "It informs us, gives us an idea of the probability distributions..(PDF){normal/gaussian,poison,uniform, geometric\n",
    "mean,var,std, if it falls in any distribtion type what is the conclusion?"
   ]
  },
  {
   "cell_type": "markdown",
   "metadata": {},
   "source": [
    "value=[1,2,3,4,5,6]\n",
    "probability=[1/6,1/6], empirical means the distribution is got from the data"
   ]
  },
  {
   "cell_type": "code",
   "execution_count": 7,
   "metadata": {},
   "outputs": [
    {
     "name": "stdout",
     "output_type": "stream",
     "text": [
      "Collecting empiricaldist\n",
      "  Downloading empiricaldist-0.6.7.tar.gz (11 kB)\n",
      "Building wheels for collected packages: empiricaldist\n",
      "  Building wheel for empiricaldist (setup.py): started\n",
      "  Building wheel for empiricaldist (setup.py): finished with status 'done'\n",
      "  Created wheel for empiricaldist: filename=empiricaldist-0.6.7-py3-none-any.whl size=11962 sha256=4b637b921ab09d22d351ac30cac5636b7ea7bd4000f139c3b590f284cc382422\n",
      "  Stored in directory: c:\\users\\vicka336\\appdata\\local\\pip\\cache\\wheels\\5d\\f1\\db\\255568cadde52e7abae2955e024ccfafedde836254f210ee12\n",
      "Successfully built empiricaldist\n",
      "Installing collected packages: empiricaldist\n",
      "Successfully installed empiricaldist-0.6.7\n"
     ]
    }
   ],
   "source": [
    "#installing empiricaldist\n",
    "!pip install empiricaldist"
   ]
  },
  {
   "cell_type": "code",
   "execution_count": 8,
   "metadata": {},
   "outputs": [],
   "source": [
    "#importing empiricaldist\n",
    "from empiricaldist import Pmf"
   ]
  },
  {
   "cell_type": "code",
   "execution_count": 10,
   "metadata": {},
   "outputs": [
    {
     "data": {
      "text/html": [
       "<div>\n",
       "<style scoped>\n",
       "    .dataframe tbody tr th:only-of-type {\n",
       "        vertical-align: middle;\n",
       "    }\n",
       "\n",
       "    .dataframe tbody tr th {\n",
       "        vertical-align: top;\n",
       "    }\n",
       "\n",
       "    .dataframe thead th {\n",
       "        text-align: right;\n",
       "    }\n",
       "</style>\n",
       "<table border=\"1\" class=\"dataframe\">\n",
       "  <thead>\n",
       "    <tr style=\"text-align: right;\">\n",
       "      <th></th>\n",
       "      <th>probs</th>\n",
       "    </tr>\n",
       "  </thead>\n",
       "  <tbody>\n",
       "    <tr>\n",
       "      <th>1</th>\n",
       "      <td>0.166667</td>\n",
       "    </tr>\n",
       "    <tr>\n",
       "      <th>2</th>\n",
       "      <td>0.166667</td>\n",
       "    </tr>\n",
       "    <tr>\n",
       "      <th>3</th>\n",
       "      <td>0.166667</td>\n",
       "    </tr>\n",
       "    <tr>\n",
       "      <th>4</th>\n",
       "      <td>0.166667</td>\n",
       "    </tr>\n",
       "    <tr>\n",
       "      <th>5</th>\n",
       "      <td>0.166667</td>\n",
       "    </tr>\n",
       "    <tr>\n",
       "      <th>6</th>\n",
       "      <td>0.166667</td>\n",
       "    </tr>\n",
       "  </tbody>\n",
       "</table>\n",
       "</div>"
      ],
      "text/plain": [
       "1    0.166667\n",
       "2    0.166667\n",
       "3    0.166667\n",
       "4    0.166667\n",
       "5    0.166667\n",
       "6    0.166667\n",
       "Name: , dtype: float64"
      ]
     },
     "execution_count": 10,
     "metadata": {},
     "output_type": "execute_result"
    }
   ],
   "source": [
    "outcome=[1,2,3,4,5,6]\n",
    "die=Pmf(1/6,outcome)\n",
    "die"
   ]
  },
  {
   "cell_type": "code",
   "execution_count": 11,
   "metadata": {},
   "outputs": [
    {
     "data": {
      "text/plain": [
       "'GSS.dict'"
      ]
     },
     "execution_count": 11,
     "metadata": {},
     "output_type": "execute_result"
    }
   ],
   "source": [
    "#ABOUT DGP, know what the survey is about\n",
    "#jss explore, tool used to extract some data from the big file, know which file format you are working with\n",
    "dict_file='GSS.dict'\n",
    "dict_file"
   ]
  },
  {
   "cell_type": "code",
   "execution_count": 12,
   "metadata": {},
   "outputs": [
    {
     "data": {
      "text/plain": [
       "'GSS.data.gz'"
      ]
     },
     "execution_count": 12,
     "metadata": {},
     "output_type": "execute_result"
    }
   ],
   "source": [
    "data_file='GSS.data.gz'#ana\n",
    "data_file"
   ]
  },
  {
   "cell_type": "code",
   "execution_count": 13,
   "metadata": {},
   "outputs": [
    {
     "name": "stdout",
     "output_type": "stream",
     "text": [
      "Collecting statadict\n",
      "  Downloading statadict-1.1.0-py3-none-any.whl (9.4 kB)\n",
      "Installing collected packages: statadict\n",
      "Successfully installed statadict-1.1.0\n"
     ]
    }
   ],
   "source": [
    "#this is a library that reads a data dict\n",
    "!pip install statadict"
   ]
  },
  {
   "cell_type": "code",
   "execution_count": 14,
   "metadata": {},
   "outputs": [],
   "source": [
    "from statadict import parse_stata_dict"
   ]
  },
  {
   "cell_type": "code",
   "execution_count": 18,
   "metadata": {},
   "outputs": [
    {
     "ename": "FileNotFoundError",
     "evalue": "[Errno 2] No such file or directory: 'GSS.dict'",
     "output_type": "error",
     "traceback": [
      "\u001b[1;31m---------------------------------------------------------------------------\u001b[0m",
      "\u001b[1;31mFileNotFoundError\u001b[0m                         Traceback (most recent call last)",
      "\u001b[1;32m<ipython-input-18-ddb448ffc4da>\u001b[0m in \u001b[0;36m<module>\u001b[1;34m\u001b[0m\n\u001b[0;32m      1\u001b[0m \u001b[1;32mfrom\u001b[0m \u001b[0mstatadict\u001b[0m \u001b[1;32mimport\u001b[0m \u001b[0mparse_stata_dict\u001b[0m\u001b[1;33m\u001b[0m\u001b[1;33m\u001b[0m\u001b[0m\n\u001b[1;32m----> 2\u001b[1;33m \u001b[0mstatadict\u001b[0m\u001b[1;33m=\u001b[0m\u001b[0mparse_stata_dict\u001b[0m\u001b[1;33m(\u001b[0m\u001b[0mdict_file\u001b[0m\u001b[1;33m)\u001b[0m\u001b[1;33m\u001b[0m\u001b[1;33m\u001b[0m\u001b[0m\n\u001b[0m",
      "\u001b[1;32m~\\Anaconda3\\lib\\site-packages\\statadict\\base.py\u001b[0m in \u001b[0;36mparse_stata_dict\u001b[1;34m(file)\u001b[0m\n\u001b[0;32m    149\u001b[0m     \"\"\"\n\u001b[0;32m    150\u001b[0m     \u001b[0mstata_dict_parser\u001b[0m \u001b[1;33m=\u001b[0m \u001b[0mStataDictParser\u001b[0m\u001b[1;33m(\u001b[0m\u001b[1;33m)\u001b[0m\u001b[1;33m\u001b[0m\u001b[1;33m\u001b[0m\u001b[0m\n\u001b[1;32m--> 151\u001b[1;33m     \u001b[1;32mreturn\u001b[0m \u001b[0mstata_dict_parser\u001b[0m\u001b[1;33m.\u001b[0m\u001b[0mparse\u001b[0m\u001b[1;33m(\u001b[0m\u001b[0mfile\u001b[0m\u001b[1;33m)\u001b[0m\u001b[1;33m\u001b[0m\u001b[1;33m\u001b[0m\u001b[0m\n\u001b[0m",
      "\u001b[1;32m~\\Anaconda3\\lib\\site-packages\\statadict\\base.py\u001b[0m in \u001b[0;36mparse\u001b[1;34m(self, file)\u001b[0m\n\u001b[0;32m    116\u001b[0m         \u001b[0mformats\u001b[0m \u001b[1;33m=\u001b[0m \u001b[0mdeque\u001b[0m\u001b[1;33m(\u001b[0m\u001b[1;33m)\u001b[0m\u001b[1;33m\u001b[0m\u001b[1;33m\u001b[0m\u001b[0m\n\u001b[0;32m    117\u001b[0m         \u001b[0mcomments\u001b[0m \u001b[1;33m=\u001b[0m \u001b[0mdeque\u001b[0m\u001b[1;33m(\u001b[0m\u001b[1;33m)\u001b[0m\u001b[1;33m\u001b[0m\u001b[1;33m\u001b[0m\u001b[0m\n\u001b[1;32m--> 118\u001b[1;33m         \u001b[1;32mwith\u001b[0m \u001b[0mopen\u001b[0m\u001b[1;33m(\u001b[0m\u001b[0mfile\u001b[0m\u001b[1;33m,\u001b[0m \u001b[1;34m\"r\"\u001b[0m\u001b[1;33m)\u001b[0m \u001b[1;32mas\u001b[0m \u001b[0mdct_file\u001b[0m\u001b[1;33m:\u001b[0m\u001b[1;33m\u001b[0m\u001b[1;33m\u001b[0m\u001b[0m\n\u001b[0m\u001b[0;32m    119\u001b[0m             \u001b[1;32mfor\u001b[0m \u001b[0mline\u001b[0m \u001b[1;32min\u001b[0m \u001b[0mdct_file\u001b[0m\u001b[1;33m:\u001b[0m\u001b[1;33m\u001b[0m\u001b[1;33m\u001b[0m\u001b[0m\n\u001b[0;32m    120\u001b[0m                 \u001b[1;32mif\u001b[0m \u001b[0mre\u001b[0m\u001b[1;33m.\u001b[0m\u001b[0msearch\u001b[0m\u001b[1;33m(\u001b[0m\u001b[0mself\u001b[0m\u001b[1;33m.\u001b[0m\u001b[0m_COLUMN_PATTERN\u001b[0m\u001b[1;33m,\u001b[0m \u001b[0mline\u001b[0m\u001b[1;33m)\u001b[0m\u001b[1;33m:\u001b[0m\u001b[1;33m\u001b[0m\u001b[1;33m\u001b[0m\u001b[0m\n",
      "\u001b[1;31mFileNotFoundError\u001b[0m: [Errno 2] No such file or directory: 'GSS.dict'"
     ]
    }
   ],
   "source": [
    "from statadict import parse_stata_dict\n",
    "statadict=parse_stata_dict(dict_file)"
   ]
  },
  {
   "cell_type": "code",
   "execution_count": 17,
   "metadata": {},
   "outputs": [
    {
     "ename": "FileNotFoundError",
     "evalue": "[Errno 2] No such file or directory: 'GSS.dict'",
     "output_type": "error",
     "traceback": [
      "\u001b[1;31m---------------------------------------------------------------------------\u001b[0m",
      "\u001b[1;31mFileNotFoundError\u001b[0m                         Traceback (most recent call last)",
      "\u001b[1;32m<ipython-input-17-40a6c955dcfd>\u001b[0m in \u001b[0;36m<module>\u001b[1;34m\u001b[0m\n\u001b[1;32m----> 1\u001b[1;33m \u001b[0mstatadict\u001b[0m\u001b[1;33m=\u001b[0m\u001b[0mparse_stata_dict\u001b[0m\u001b[1;33m(\u001b[0m\u001b[0mdict_file\u001b[0m\u001b[1;33m)\u001b[0m\u001b[1;33m\u001b[0m\u001b[1;33m\u001b[0m\u001b[0m\n\u001b[0m",
      "\u001b[1;32m~\\Anaconda3\\lib\\site-packages\\statadict\\base.py\u001b[0m in \u001b[0;36mparse_stata_dict\u001b[1;34m(file)\u001b[0m\n\u001b[0;32m    149\u001b[0m     \"\"\"\n\u001b[0;32m    150\u001b[0m     \u001b[0mstata_dict_parser\u001b[0m \u001b[1;33m=\u001b[0m \u001b[0mStataDictParser\u001b[0m\u001b[1;33m(\u001b[0m\u001b[1;33m)\u001b[0m\u001b[1;33m\u001b[0m\u001b[1;33m\u001b[0m\u001b[0m\n\u001b[1;32m--> 151\u001b[1;33m     \u001b[1;32mreturn\u001b[0m \u001b[0mstata_dict_parser\u001b[0m\u001b[1;33m.\u001b[0m\u001b[0mparse\u001b[0m\u001b[1;33m(\u001b[0m\u001b[0mfile\u001b[0m\u001b[1;33m)\u001b[0m\u001b[1;33m\u001b[0m\u001b[1;33m\u001b[0m\u001b[0m\n\u001b[0m",
      "\u001b[1;32m~\\Anaconda3\\lib\\site-packages\\statadict\\base.py\u001b[0m in \u001b[0;36mparse\u001b[1;34m(self, file)\u001b[0m\n\u001b[0;32m    116\u001b[0m         \u001b[0mformats\u001b[0m \u001b[1;33m=\u001b[0m \u001b[0mdeque\u001b[0m\u001b[1;33m(\u001b[0m\u001b[1;33m)\u001b[0m\u001b[1;33m\u001b[0m\u001b[1;33m\u001b[0m\u001b[0m\n\u001b[0;32m    117\u001b[0m         \u001b[0mcomments\u001b[0m \u001b[1;33m=\u001b[0m \u001b[0mdeque\u001b[0m\u001b[1;33m(\u001b[0m\u001b[1;33m)\u001b[0m\u001b[1;33m\u001b[0m\u001b[1;33m\u001b[0m\u001b[0m\n\u001b[1;32m--> 118\u001b[1;33m         \u001b[1;32mwith\u001b[0m \u001b[0mopen\u001b[0m\u001b[1;33m(\u001b[0m\u001b[0mfile\u001b[0m\u001b[1;33m,\u001b[0m \u001b[1;34m\"r\"\u001b[0m\u001b[1;33m)\u001b[0m \u001b[1;32mas\u001b[0m \u001b[0mdct_file\u001b[0m\u001b[1;33m:\u001b[0m\u001b[1;33m\u001b[0m\u001b[1;33m\u001b[0m\u001b[0m\n\u001b[0m\u001b[0;32m    119\u001b[0m             \u001b[1;32mfor\u001b[0m \u001b[0mline\u001b[0m \u001b[1;32min\u001b[0m \u001b[0mdct_file\u001b[0m\u001b[1;33m:\u001b[0m\u001b[1;33m\u001b[0m\u001b[1;33m\u001b[0m\u001b[0m\n\u001b[0;32m    120\u001b[0m                 \u001b[1;32mif\u001b[0m \u001b[0mre\u001b[0m\u001b[1;33m.\u001b[0m\u001b[0msearch\u001b[0m\u001b[1;33m(\u001b[0m\u001b[0mself\u001b[0m\u001b[1;33m.\u001b[0m\u001b[0m_COLUMN_PATTERN\u001b[0m\u001b[1;33m,\u001b[0m \u001b[0mline\u001b[0m\u001b[1;33m)\u001b[0m\u001b[1;33m:\u001b[0m\u001b[1;33m\u001b[0m\u001b[1;33m\u001b[0m\u001b[0m\n",
      "\u001b[1;31mFileNotFoundError\u001b[0m: [Errno 2] No such file or directory: 'GSS.dict'"
     ]
    }
   ],
   "source": [
    "statadict=parse_stata_dict(dict_file)"
   ]
  },
  {
   "cell_type": "code",
   "execution_count": 16,
   "metadata": {},
   "outputs": [
    {
     "ename": "NameError",
     "evalue": "name 'parse' is not defined",
     "output_type": "error",
     "traceback": [
      "\u001b[1;31m---------------------------------------------------------------------------\u001b[0m",
      "\u001b[1;31mNameError\u001b[0m                                 Traceback (most recent call last)",
      "\u001b[1;32m<ipython-input-16-a04b8c5c0931>\u001b[0m in \u001b[0;36m<module>\u001b[1;34m\u001b[0m\n\u001b[1;32m----> 1\u001b[1;33m \u001b[0mstatadict\u001b[0m\u001b[1;33m=\u001b[0m\u001b[0mparse\u001b[0m\u001b[1;33m(\u001b[0m\u001b[0mdict_file\u001b[0m\u001b[1;33m)\u001b[0m\u001b[1;33m\u001b[0m\u001b[1;33m\u001b[0m\u001b[0m\n\u001b[0m",
      "\u001b[1;31mNameError\u001b[0m: name 'parse' is not defined"
     ]
    }
   ],
   "source": [
    "statadict=parse(dict_file)"
   ]
  },
  {
   "cell_type": "code",
   "execution_count": 19,
   "metadata": {},
   "outputs": [
    {
     "name": "stderr",
     "output_type": "stream",
     "text": [
      "ERROR: Could not find a version that satisfies the requirement gzip (from versions: none)\n",
      "ERROR: No matching distribution found for gzip\n"
     ]
    }
   ],
   "source": [
    "!pip install gzip"
   ]
  },
  {
   "cell_type": "code",
   "execution_count": 21,
   "metadata": {},
   "outputs": [],
   "source": [
    "import pandas as pd"
   ]
  },
  {
   "cell_type": "code",
   "execution_count": 22,
   "metadata": {},
   "outputs": [
    {
     "data": {
      "text/html": [
       "<div>\n",
       "<style scoped>\n",
       "    .dataframe tbody tr th:only-of-type {\n",
       "        vertical-align: middle;\n",
       "    }\n",
       "\n",
       "    .dataframe tbody tr th {\n",
       "        vertical-align: top;\n",
       "    }\n",
       "\n",
       "    .dataframe thead th {\n",
       "        text-align: right;\n",
       "    }\n",
       "</style>\n",
       "<table border=\"1\" class=\"dataframe\">\n",
       "  <thead>\n",
       "    <tr style=\"text-align: right;\">\n",
       "      <th></th>\n",
       "      <th>Country Code</th>\n",
       "      <th>TableName</th>\n",
       "      <th>IncomeGroup</th>\n",
       "      <th>PopDensity_2018</th>\n",
       "      <th>Confirmed Cases</th>\n",
       "      <th>Deaths</th>\n",
       "      <th>Mortality Rate</th>\n",
       "      <th>Population_2019</th>\n",
       "      <th>GDP_2019</th>\n",
       "      <th>GDP_per_cap_2019</th>\n",
       "      <th>Main Leader Gender</th>\n",
       "      <th>Any Leader Gender</th>\n",
       "      <th>Avg Temp</th>\n",
       "      <th>Normalized Cases</th>\n",
       "      <th>Normalized Deaths</th>\n",
       "    </tr>\n",
       "  </thead>\n",
       "  <tbody>\n",
       "    <tr>\n",
       "      <th>0</th>\n",
       "      <td>AFG</td>\n",
       "      <td>Afghanistan</td>\n",
       "      <td>Low income</td>\n",
       "      <td>56.937760</td>\n",
       "      <td>39192</td>\n",
       "      <td>1453</td>\n",
       "      <td>3.707389</td>\n",
       "      <td>38041754</td>\n",
       "      <td>1.910135e+10</td>\n",
       "      <td>2293.551684</td>\n",
       "      <td>M</td>\n",
       "      <td>M</td>\n",
       "      <td>12.60</td>\n",
       "      <td>0.001030</td>\n",
       "      <td>3.820000e-05</td>\n",
       "    </tr>\n",
       "    <tr>\n",
       "      <th>1</th>\n",
       "      <td>AGO</td>\n",
       "      <td>Angola</td>\n",
       "      <td>Lower middle income</td>\n",
       "      <td>24.713052</td>\n",
       "      <td>4672</td>\n",
       "      <td>171</td>\n",
       "      <td>3.660103</td>\n",
       "      <td>31825295</td>\n",
       "      <td>9.463542e+10</td>\n",
       "      <td>6929.678158</td>\n",
       "      <td>M</td>\n",
       "      <td>M</td>\n",
       "      <td>21.55</td>\n",
       "      <td>0.000147</td>\n",
       "      <td>5.370000e-06</td>\n",
       "    </tr>\n",
       "    <tr>\n",
       "      <th>2</th>\n",
       "      <td>ALB</td>\n",
       "      <td>Albania</td>\n",
       "      <td>Upper middle income</td>\n",
       "      <td>104.612263</td>\n",
       "      <td>13153</td>\n",
       "      <td>375</td>\n",
       "      <td>2.851061</td>\n",
       "      <td>2854191</td>\n",
       "      <td>1.527808e+10</td>\n",
       "      <td>14495.078510</td>\n",
       "      <td>M</td>\n",
       "      <td>M</td>\n",
       "      <td>11.40</td>\n",
       "      <td>0.004608</td>\n",
       "      <td>1.313860e-04</td>\n",
       "    </tr>\n",
       "    <tr>\n",
       "      <th>3</th>\n",
       "      <td>AND</td>\n",
       "      <td>Andorra</td>\n",
       "      <td>High income</td>\n",
       "      <td>163.842553</td>\n",
       "      <td>1836</td>\n",
       "      <td>53</td>\n",
       "      <td>2.886710</td>\n",
       "      <td>77142</td>\n",
       "      <td>3.154058e+09</td>\n",
       "      <td>NaN</td>\n",
       "      <td>M</td>\n",
       "      <td>M</td>\n",
       "      <td>7.60</td>\n",
       "      <td>0.023800</td>\n",
       "      <td>6.870450e-04</td>\n",
       "    </tr>\n",
       "    <tr>\n",
       "      <th>4</th>\n",
       "      <td>ARE</td>\n",
       "      <td>United Arab Emirates</td>\n",
       "      <td>High income</td>\n",
       "      <td>135.609110</td>\n",
       "      <td>90618</td>\n",
       "      <td>411</td>\n",
       "      <td>0.453552</td>\n",
       "      <td>9770529</td>\n",
       "      <td>4.211420e+11</td>\n",
       "      <td>69900.877850</td>\n",
       "      <td>M</td>\n",
       "      <td>M</td>\n",
       "      <td>27.00</td>\n",
       "      <td>0.009275</td>\n",
       "      <td>4.210000e-05</td>\n",
       "    </tr>\n",
       "    <tr>\n",
       "      <th>...</th>\n",
       "      <td>...</td>\n",
       "      <td>...</td>\n",
       "      <td>...</td>\n",
       "      <td>...</td>\n",
       "      <td>...</td>\n",
       "      <td>...</td>\n",
       "      <td>...</td>\n",
       "      <td>...</td>\n",
       "      <td>...</td>\n",
       "      <td>...</td>\n",
       "      <td>...</td>\n",
       "      <td>...</td>\n",
       "      <td>...</td>\n",
       "      <td>...</td>\n",
       "      <td>...</td>\n",
       "    </tr>\n",
       "    <tr>\n",
       "      <th>177</th>\n",
       "      <td>VNM</td>\n",
       "      <td>Vietnam</td>\n",
       "      <td>Lower middle income</td>\n",
       "      <td>308.125246</td>\n",
       "      <td>1069</td>\n",
       "      <td>35</td>\n",
       "      <td>3.274088</td>\n",
       "      <td>96462106</td>\n",
       "      <td>2.619210e+11</td>\n",
       "      <td>8374.444328</td>\n",
       "      <td>M</td>\n",
       "      <td>M</td>\n",
       "      <td>24.45</td>\n",
       "      <td>0.000011</td>\n",
       "      <td>3.630000e-07</td>\n",
       "    </tr>\n",
       "    <tr>\n",
       "      <th>178</th>\n",
       "      <td>YEM</td>\n",
       "      <td>Yemen, Rep.</td>\n",
       "      <td>Low income</td>\n",
       "      <td>53.977853</td>\n",
       "      <td>2030</td>\n",
       "      <td>587</td>\n",
       "      <td>28.916256</td>\n",
       "      <td>29161922</td>\n",
       "      <td>NaN</td>\n",
       "      <td>NaN</td>\n",
       "      <td>M</td>\n",
       "      <td>M</td>\n",
       "      <td>23.85</td>\n",
       "      <td>0.000070</td>\n",
       "      <td>2.010000e-05</td>\n",
       "    </tr>\n",
       "    <tr>\n",
       "      <th>179</th>\n",
       "      <td>ZAF</td>\n",
       "      <td>South Africa</td>\n",
       "      <td>Upper middle income</td>\n",
       "      <td>47.630120</td>\n",
       "      <td>669498</td>\n",
       "      <td>16376</td>\n",
       "      <td>2.446012</td>\n",
       "      <td>58558270</td>\n",
       "      <td>3.514320e+11</td>\n",
       "      <td>12999.120260</td>\n",
       "      <td>M</td>\n",
       "      <td>M</td>\n",
       "      <td>17.75</td>\n",
       "      <td>0.011433</td>\n",
       "      <td>2.796530e-04</td>\n",
       "    </tr>\n",
       "    <tr>\n",
       "      <th>180</th>\n",
       "      <td>ZMB</td>\n",
       "      <td>Zambia</td>\n",
       "      <td>Lower middle income</td>\n",
       "      <td>23.341479</td>\n",
       "      <td>14612</td>\n",
       "      <td>332</td>\n",
       "      <td>2.272105</td>\n",
       "      <td>17861030</td>\n",
       "      <td>2.306472e+10</td>\n",
       "      <td>3623.699395</td>\n",
       "      <td>M</td>\n",
       "      <td>M</td>\n",
       "      <td>21.40</td>\n",
       "      <td>0.000818</td>\n",
       "      <td>1.860000e-05</td>\n",
       "    </tr>\n",
       "    <tr>\n",
       "      <th>181</th>\n",
       "      <td>ZWE</td>\n",
       "      <td>Zimbabwe</td>\n",
       "      <td>Lower middle income</td>\n",
       "      <td>37.324591</td>\n",
       "      <td>7803</td>\n",
       "      <td>227</td>\n",
       "      <td>2.909138</td>\n",
       "      <td>14645468</td>\n",
       "      <td>2.144076e+10</td>\n",
       "      <td>2953.484113</td>\n",
       "      <td>M</td>\n",
       "      <td>M</td>\n",
       "      <td>21.00</td>\n",
       "      <td>0.000533</td>\n",
       "      <td>1.550000e-05</td>\n",
       "    </tr>\n",
       "  </tbody>\n",
       "</table>\n",
       "<p>182 rows × 15 columns</p>\n",
       "</div>"
      ],
      "text/plain": [
       "    Country Code             TableName          IncomeGroup  PopDensity_2018  \\\n",
       "0            AFG           Afghanistan           Low income        56.937760   \n",
       "1            AGO                Angola  Lower middle income        24.713052   \n",
       "2            ALB               Albania  Upper middle income       104.612263   \n",
       "3            AND               Andorra          High income       163.842553   \n",
       "4            ARE  United Arab Emirates          High income       135.609110   \n",
       "..           ...                   ...                  ...              ...   \n",
       "177          VNM               Vietnam  Lower middle income       308.125246   \n",
       "178          YEM           Yemen, Rep.           Low income        53.977853   \n",
       "179          ZAF          South Africa  Upper middle income        47.630120   \n",
       "180          ZMB                Zambia  Lower middle income        23.341479   \n",
       "181          ZWE              Zimbabwe  Lower middle income        37.324591   \n",
       "\n",
       "     Confirmed Cases  Deaths  Mortality Rate  Population_2019      GDP_2019  \\\n",
       "0              39192    1453        3.707389         38041754  1.910135e+10   \n",
       "1               4672     171        3.660103         31825295  9.463542e+10   \n",
       "2              13153     375        2.851061          2854191  1.527808e+10   \n",
       "3               1836      53        2.886710            77142  3.154058e+09   \n",
       "4              90618     411        0.453552          9770529  4.211420e+11   \n",
       "..               ...     ...             ...              ...           ...   \n",
       "177             1069      35        3.274088         96462106  2.619210e+11   \n",
       "178             2030     587       28.916256         29161922           NaN   \n",
       "179           669498   16376        2.446012         58558270  3.514320e+11   \n",
       "180            14612     332        2.272105         17861030  2.306472e+10   \n",
       "181             7803     227        2.909138         14645468  2.144076e+10   \n",
       "\n",
       "     GDP_per_cap_2019 Main Leader Gender Any Leader Gender  Avg Temp  \\\n",
       "0         2293.551684                  M                 M     12.60   \n",
       "1         6929.678158                  M                 M     21.55   \n",
       "2        14495.078510                  M                 M     11.40   \n",
       "3                 NaN                  M                 M      7.60   \n",
       "4        69900.877850                  M                 M     27.00   \n",
       "..                ...                ...               ...       ...   \n",
       "177       8374.444328                  M                 M     24.45   \n",
       "178               NaN                  M                 M     23.85   \n",
       "179      12999.120260                  M                 M     17.75   \n",
       "180       3623.699395                  M                 M     21.40   \n",
       "181       2953.484113                  M                 M     21.00   \n",
       "\n",
       "     Normalized Cases  Normalized Deaths  \n",
       "0            0.001030       3.820000e-05  \n",
       "1            0.000147       5.370000e-06  \n",
       "2            0.004608       1.313860e-04  \n",
       "3            0.023800       6.870450e-04  \n",
       "4            0.009275       4.210000e-05  \n",
       "..                ...                ...  \n",
       "177          0.000011       3.630000e-07  \n",
       "178          0.000070       2.010000e-05  \n",
       "179          0.011433       2.796530e-04  \n",
       "180          0.000818       1.860000e-05  \n",
       "181          0.000533       1.550000e-05  \n",
       "\n",
       "[182 rows x 15 columns]"
      ]
     },
     "execution_count": 22,
     "metadata": {},
     "output_type": "execute_result"
    }
   ],
   "source": [
    "ds=df=pd.read_csv(\"data/unified-data-per-country.csv\")\n",
    "ds\n"
   ]
  },
  {
   "cell_type": "code",
   "execution_count": 24,
   "metadata": {},
   "outputs": [
    {
     "ename": "NameError",
     "evalue": "name 'PopDensity_2018' is not defined",
     "output_type": "error",
     "traceback": [
      "\u001b[1;31m---------------------------------------------------------------------------\u001b[0m",
      "\u001b[1;31mNameError\u001b[0m                                 Traceback (most recent call last)",
      "\u001b[1;32m<ipython-input-24-58c981be46b0>\u001b[0m in \u001b[0;36m<module>\u001b[1;34m\u001b[0m\n\u001b[1;32m----> 1\u001b[1;33m \u001b[0mds\u001b[0m\u001b[1;33m[\u001b[0m\u001b[0mPopDensity_2018\u001b[0m\u001b[1;33m]\u001b[0m\u001b[1;33m.\u001b[0m\u001b[0mvalue_counts\u001b[0m\u001b[1;33m(\u001b[0m\u001b[1;33m)\u001b[0m\u001b[1;33m.\u001b[0m\u001b[0msort_index\u001b[0m\u001b[1;33m(\u001b[0m\u001b[1;33m)\u001b[0m\u001b[1;33m\u001b[0m\u001b[1;33m\u001b[0m\u001b[0m\n\u001b[0m",
      "\u001b[1;31mNameError\u001b[0m: name 'PopDensity_2018' is not defined"
     ]
    }
   ],
   "source": [
    "ds[PopDensity_2018].value_counts().sort_index()"
   ]
  },
  {
   "cell_type": "code",
   "execution_count": 26,
   "metadata": {},
   "outputs": [
    {
     "ename": "NameError",
     "evalue": "name 'Population_2019' is not defined",
     "output_type": "error",
     "traceback": [
      "\u001b[1;31m---------------------------------------------------------------------------\u001b[0m",
      "\u001b[1;31mNameError\u001b[0m                                 Traceback (most recent call last)",
      "\u001b[1;32m<ipython-input-26-c7ac7cec4fa0>\u001b[0m in \u001b[0;36m<module>\u001b[1;34m\u001b[0m\n\u001b[1;32m----> 1\u001b[1;33m \u001b[0mds\u001b[0m\u001b[1;33m[\u001b[0m\u001b[0mPopulation_2019\u001b[0m\u001b[1;33m]\u001b[0m\u001b[1;33m.\u001b[0m\u001b[0mvalue_count\u001b[0m\u001b[1;33m(\u001b[0m\u001b[1;33m)\u001b[0m\u001b[1;33m.\u001b[0m\u001b[0msort_index\u001b[0m\u001b[1;33m(\u001b[0m\u001b[1;33m)\u001b[0m\u001b[1;33m\u001b[0m\u001b[1;33m\u001b[0m\u001b[0m\n\u001b[0m",
      "\u001b[1;31mNameError\u001b[0m: name 'Population_2019' is not defined"
     ]
    }
   ],
   "source": [
    "ds[Population_2019].value_count().sort_index()"
   ]
  },
  {
   "cell_type": "code",
   "execution_count": 27,
   "metadata": {},
   "outputs": [
    {
     "data": {
      "text/plain": [
       "Index(['Country Code', 'TableName', 'IncomeGroup', 'PopDensity_2018',\n",
       "       'Confirmed Cases', 'Deaths', 'Mortality Rate', 'Population_2019',\n",
       "       'GDP_2019', 'GDP_per_cap_2019', 'Main Leader Gender',\n",
       "       'Any Leader Gender', 'Avg Temp', 'Normalized Cases',\n",
       "       'Normalized Deaths'],\n",
       "      dtype='object')"
      ]
     },
     "execution_count": 27,
     "metadata": {},
     "output_type": "execute_result"
    }
   ],
   "source": [
    "ds.columns"
   ]
  },
  {
   "cell_type": "code",
   "execution_count": 30,
   "metadata": {},
   "outputs": [
    {
     "data": {
      "text/plain": [
       "33860         1\n",
       "38019         1\n",
       "38964         1\n",
       "52823         1\n",
       "71808         1\n",
       "             ..\n",
       "216565318     1\n",
       "270625568     1\n",
       "328239523     1\n",
       "1366417754    1\n",
       "1397715000    1\n",
       "Name: Population_2019, Length: 182, dtype: int64"
      ]
     },
     "execution_count": 30,
     "metadata": {},
     "output_type": "execute_result"
    }
   ],
   "source": [
    "ds['Population_2019'].value_counts().sort_index()"
   ]
  },
  {
   "cell_type": "code",
   "execution_count": 32,
   "metadata": {
    "scrolled": true
   },
   "outputs": [
    {
     "data": {
      "text/plain": [
       "43053054     1\n",
       "126264931    1\n",
       "889953       1\n",
       "7813215      1\n",
       "97118        1\n",
       "            ..\n",
       "47076781     1\n",
       "4067500      1\n",
       "51709098     1\n",
       "7044636      1\n",
       "96462106     1\n",
       "Name: Population_2019, Length: 182, dtype: int64"
      ]
     },
     "execution_count": 32,
     "metadata": {},
     "output_type": "execute_result"
    }
   ],
   "source": [
    "ds['Population_2019'].value_counts()"
   ]
  },
  {
   "cell_type": "code",
   "execution_count": 33,
   "metadata": {},
   "outputs": [
    {
     "data": {
      "text/plain": [
       "0      38041754\n",
       "1      31825295\n",
       "2       2854191\n",
       "3         77142\n",
       "4       9770529\n",
       "         ...   \n",
       "177    96462106\n",
       "178    29161922\n",
       "179    58558270\n",
       "180    17861030\n",
       "181    14645468\n",
       "Name: Population_2019, Length: 182, dtype: int64"
      ]
     },
     "execution_count": 33,
     "metadata": {},
     "output_type": "execute_result"
    }
   ],
   "source": [
    "ds['Population_2019'].sort_index()"
   ]
  },
  {
   "cell_type": "code",
   "execution_count": 31,
   "metadata": {},
   "outputs": [
    {
     "data": {
      "text/plain": [
       "0.000003    1\n",
       "0.000009    1\n",
       "0.000011    1\n",
       "0.000017    1\n",
       "0.000021    1\n",
       "           ..\n",
       "0.024530    1\n",
       "0.025085    1\n",
       "0.025929    1\n",
       "0.041906    1\n",
       "0.044084    1\n",
       "Name: Normalized Cases, Length: 182, dtype: int64"
      ]
     },
     "execution_count": 31,
     "metadata": {},
     "output_type": "execute_result"
    }
   ],
   "source": [
    "ds['Normalized Cases'].value_counts().sort_index()"
   ]
  },
  {
   "cell_type": "code",
   "execution_count": 34,
   "metadata": {},
   "outputs": [],
   "source": [
    "import matplotlib.pyplot as plt"
   ]
  },
  {
   "cell_type": "code",
   "execution_count": 38,
   "metadata": {},
   "outputs": [
    {
     "data": {
      "text/plain": [
       "(array([0., 0., 0., 0., 0., 1., 0., 0., 0., 0.]),\n",
       " array([-0.5, -0.4, -0.3, -0.2, -0.1,  0. ,  0.1,  0.2,  0.3,  0.4,  0.5]),\n",
       " <BarContainer object of 10 artists>)"
      ]
     },
     "execution_count": 38,
     "metadata": {},
     "output_type": "execute_result"
    },
    {
     "data": {
      "image/png": "[encoded data removed]",
      "text/plain": [
       "<Figure size 432x288 with 1 Axes>"
      ]
     },
     "metadata": {
      "needs_background": "light"
     },
     "output_type": "display_data"
    }
   ],
   "source": [
    "plt.hist('Population_2019')"
   ]
  },
  {
   "cell_type": "code",
   "execution_count": 72,
   "metadata": {},
   "outputs": [
    {
     "data": {
      "text/plain": [
       "(array([0., 0., 0., 0., 0., 1., 0., 0., 0., 0.]),\n",
       " array([-0.5, -0.4, -0.3, -0.2, -0.1,  0. ,  0.1,  0.2,  0.3,  0.4,  0.5]),\n",
       " <BarContainer object of 10 artists>)"
      ]
     },
     "execution_count": 72,
     "metadata": {},
     "output_type": "execute_result"
    },
    {
     "data": {
      "image/png": "[encoded data removed]",
      "text/plain": [
       "<Figure size 432x288 with 1 Axes>"
      ]
     },
     "metadata": {
      "needs_background": "light"
     },
     "output_type": "display_data"
    }
   ],
   "source": [
    "plt.hist('Avg Temp')"
   ]
  },
  {
   "cell_type": "code",
   "execution_count": 44,
   "metadata": {},
   "outputs": [
    {
     "data": {
      "text/plain": [
       "array([[<AxesSubplot:title={'center':'PopDensity_2018'}>,\n",
       "        <AxesSubplot:title={'center':'Confirmed Cases'}>,\n",
       "        <AxesSubplot:title={'center':'Deaths'}>],\n",
       "       [<AxesSubplot:title={'center':'Mortality Rate'}>,\n",
       "        <AxesSubplot:title={'center':'Population_2019'}>,\n",
       "        <AxesSubplot:title={'center':'GDP_2019'}>],\n",
       "       [<AxesSubplot:title={'center':'GDP_per_cap_2019'}>,\n",
       "        <AxesSubplot:title={'center':'Avg Temp'}>,\n",
       "        <AxesSubplot:title={'center':'Normalized Cases'}>],\n",
       "       [<AxesSubplot:title={'center':'Normalized Deaths'}>,\n",
       "        <AxesSubplot:>, <AxesSubplot:>]], dtype=object)"
      ]
     },
     "execution_count": 44,
     "metadata": {},
     "output_type": "execute_result"
    },
    {
     "data": {
      "image/png": "[encoded data removed]",
      "text/plain": [
       "<Figure size 432x288 with 1 Axes>"
      ]
     },
     "metadata": {
      "needs_background": "light"
     },
     "output_type": "display_data"
    },
    {
     "data": {
      "image/png": "[encoded data removed]",
      "text/plain": [
       "<Figure size 432x288 with 12 Axes>"
      ]
     },
     "metadata": {
      "needs_background": "light"
     },
     "output_type": "display_data"
    }
   ],
   "source": [
    "plt.hist('GDP_per_cap_2019',label='GDP')\n",
    "ds.hist(grid='false')"
   ]
  },
  {
   "cell_type": "code",
   "execution_count": 40,
   "metadata": {},
   "outputs": [
    {
     "data": {
      "text/plain": [
       "(array([0., 0., 0., 0., 0., 1., 0., 0., 0., 0.]),\n",
       " array([-0.5, -0.4, -0.3, -0.2, -0.1,  0. ,  0.1,  0.2,  0.3,  0.4,  0.5]),\n",
       " <BarContainer object of 10 artists>)"
      ]
     },
     "execution_count": 40,
     "metadata": {},
     "output_type": "execute_result"
    },
    {
     "data": {
      "image/png": "[encoded data removed]",
      "text/plain": [
       "<Figure size 432x288 with 1 Axes>"
      ]
     },
     "metadata": {
      "needs_background": "light"
     },
     "output_type": "display_data"
    }
   ],
   "source": [
    "plt.hist('PopDensity_2018',label='PopDensity_2018')"
   ]
  },
  {
   "cell_type": "code",
   "execution_count": 52,
   "metadata": {},
   "outputs": [
    {
     "data": {
      "text/html": [
       "<div>\n",
       "<style scoped>\n",
       "    .dataframe tbody tr th:only-of-type {\n",
       "        vertical-align: middle;\n",
       "    }\n",
       "\n",
       "    .dataframe tbody tr th {\n",
       "        vertical-align: top;\n",
       "    }\n",
       "\n",
       "    .dataframe thead th {\n",
       "        text-align: right;\n",
       "    }\n",
       "</style>\n",
       "<table border=\"1\" class=\"dataframe\">\n",
       "  <thead>\n",
       "    <tr style=\"text-align: right;\">\n",
       "      <th></th>\n",
       "      <th>probs</th>\n",
       "    </tr>\n",
       "  </thead>\n",
       "  <tbody>\n",
       "    <tr>\n",
       "      <th>PopDensity_2018</th>\n",
       "      <td>1</td>\n",
       "    </tr>\n",
       "  </tbody>\n",
       "</table>\n",
       "</div>"
      ],
      "text/plain": [
       "PopDensity_2018    1\n",
       "Name: , dtype: int64"
      ]
     },
     "execution_count": 52,
     "metadata": {},
     "output_type": "execute_result"
    }
   ],
   "source": [
    "Pmf_PopDensity_2018=Pmf.from_seq('PopDensity_2018',normalize=False)\n",
    "Pmf_PopDensity_2018"
   ]
  },
  {
   "cell_type": "code",
   "execution_count": 61,
   "metadata": {},
   "outputs": [
    {
     "data": {
      "text/html": [
       "<div>\n",
       "<style scoped>\n",
       "    .dataframe tbody tr th:only-of-type {\n",
       "        vertical-align: middle;\n",
       "    }\n",
       "\n",
       "    .dataframe tbody tr th {\n",
       "        vertical-align: top;\n",
       "    }\n",
       "\n",
       "    .dataframe thead th {\n",
       "        text-align: right;\n",
       "    }\n",
       "</style>\n",
       "<table border=\"1\" class=\"dataframe\">\n",
       "  <thead>\n",
       "    <tr style=\"text-align: right;\">\n",
       "      <th></th>\n",
       "      <th>probs</th>\n",
       "    </tr>\n",
       "  </thead>\n",
       "  <tbody>\n",
       "    <tr>\n",
       "      <th>PopDensity_2018</th>\n",
       "      <td>1.0</td>\n",
       "    </tr>\n",
       "  </tbody>\n",
       "</table>\n",
       "</div>"
      ],
      "text/plain": [
       "PopDensity_2018    1.0\n",
       "Name: , dtype: float64"
      ]
     },
     "execution_count": 61,
     "metadata": {},
     "output_type": "execute_result"
    }
   ],
   "source": [
    "Pmf_PopDensity_2018=Pmf.from_seq('PopDensity_2018',normalize=True)\n",
    "Pmf_PopDensity_2018"
   ]
  },
  {
   "cell_type": "code",
   "execution_count": 62,
   "metadata": {},
   "outputs": [
    {
     "data": {
      "text/html": [
       "<div>\n",
       "<style scoped>\n",
       "    .dataframe tbody tr th:only-of-type {\n",
       "        vertical-align: middle;\n",
       "    }\n",
       "\n",
       "    .dataframe tbody tr th {\n",
       "        vertical-align: top;\n",
       "    }\n",
       "\n",
       "    .dataframe thead th {\n",
       "        text-align: right;\n",
       "    }\n",
       "</style>\n",
       "<table border=\"1\" class=\"dataframe\">\n",
       "  <thead>\n",
       "    <tr style=\"text-align: right;\">\n",
       "      <th></th>\n",
       "      <th>probs</th>\n",
       "    </tr>\n",
       "  </thead>\n",
       "  <tbody>\n",
       "    <tr>\n",
       "      <th>PopDensity_2018</th>\n",
       "      <td>1.0</td>\n",
       "    </tr>\n",
       "  </tbody>\n",
       "</table>\n",
       "</div>"
      ],
      "text/plain": [
       "PopDensity_2018    1.0\n",
       "Name: , dtype: float64"
      ]
     },
     "execution_count": 62,
     "metadata": {},
     "output_type": "execute_result"
    }
   ],
   "source": [
    "Pmf_PopDensity_2018.head()"
   ]
  },
  {
   "cell_type": "code",
   "execution_count": 63,
   "metadata": {},
   "outputs": [
    {
     "data": {
      "text/html": [
       "<div>\n",
       "<style scoped>\n",
       "    .dataframe tbody tr th:only-of-type {\n",
       "        vertical-align: middle;\n",
       "    }\n",
       "\n",
       "    .dataframe tbody tr th {\n",
       "        vertical-align: top;\n",
       "    }\n",
       "\n",
       "    .dataframe thead th {\n",
       "        text-align: right;\n",
       "    }\n",
       "</style>\n",
       "<table border=\"1\" class=\"dataframe\">\n",
       "  <thead>\n",
       "    <tr style=\"text-align: right;\">\n",
       "      <th></th>\n",
       "      <th>probs</th>\n",
       "    </tr>\n",
       "  </thead>\n",
       "  <tbody>\n",
       "    <tr>\n",
       "      <th>PopDensity_2018</th>\n",
       "      <td>1.0</td>\n",
       "    </tr>\n",
       "  </tbody>\n",
       "</table>\n",
       "</div>"
      ],
      "text/plain": [
       "PopDensity_2018    1.0\n",
       "Name: , dtype: float64"
      ]
     },
     "execution_count": 63,
     "metadata": {},
     "output_type": "execute_result"
    }
   ],
   "source": [
    "Pmf_PopDensity_2018.tail()"
   ]
  },
  {
   "cell_type": "code",
   "execution_count": null,
   "metadata": {},
   "outputs": [],
   "source": []
  },
  {
   "cell_type": "code",
   "execution_count": 56,
   "metadata": {},
   "outputs": [
    {
     "data": {
      "text/html": [
       "<div>\n",
       "<style scoped>\n",
       "    .dataframe tbody tr th:only-of-type {\n",
       "        vertical-align: middle;\n",
       "    }\n",
       "\n",
       "    .dataframe tbody tr th {\n",
       "        vertical-align: top;\n",
       "    }\n",
       "\n",
       "    .dataframe thead th {\n",
       "        text-align: right;\n",
       "    }\n",
       "</style>\n",
       "<table border=\"1\" class=\"dataframe\">\n",
       "  <thead>\n",
       "    <tr style=\"text-align: right;\">\n",
       "      <th></th>\n",
       "      <th>probs</th>\n",
       "    </tr>\n",
       "  </thead>\n",
       "  <tbody>\n",
       "    <tr>\n",
       "      <th>PopDensity_2018</th>\n",
       "      <td>1</td>\n",
       "    </tr>\n",
       "  </tbody>\n",
       "</table>\n",
       "</div>"
      ],
      "text/plain": [
       "PopDensity_2018    1\n",
       "Name: , dtype: int64"
      ]
     },
     "execution_count": 56,
     "metadata": {},
     "output_type": "execute_result"
    }
   ],
   "source": [
    "Pmf_PopDensity_2018.head()"
   ]
  },
  {
   "cell_type": "code",
   "execution_count": 60,
   "metadata": {},
   "outputs": [
    {
     "data": {
      "text/html": [
       "<div>\n",
       "<style scoped>\n",
       "    .dataframe tbody tr th:only-of-type {\n",
       "        vertical-align: middle;\n",
       "    }\n",
       "\n",
       "    .dataframe tbody tr th {\n",
       "        vertical-align: top;\n",
       "    }\n",
       "\n",
       "    .dataframe thead th {\n",
       "        text-align: right;\n",
       "    }\n",
       "</style>\n",
       "<table border=\"1\" class=\"dataframe\">\n",
       "  <thead>\n",
       "    <tr style=\"text-align: right;\">\n",
       "      <th></th>\n",
       "      <th>probs</th>\n",
       "    </tr>\n",
       "  </thead>\n",
       "  <tbody>\n",
       "    <tr>\n",
       "      <th>PopDensity_2018</th>\n",
       "      <td>1</td>\n",
       "    </tr>\n",
       "  </tbody>\n",
       "</table>\n",
       "</div>"
      ],
      "text/plain": [
       "PopDensity_2018    1\n",
       "Name: , dtype: int64"
      ]
     },
     "execution_count": 60,
     "metadata": {},
     "output_type": "execute_result"
    }
   ],
   "source": [
    "Pmf_PopDensity_2018.tail()"
   ]
  },
  {
   "cell_type": "code",
   "execution_count": 70,
   "metadata": {},
   "outputs": [
    {
     "data": {
      "text/html": [
       "<div>\n",
       "<style scoped>\n",
       "    .dataframe tbody tr th:only-of-type {\n",
       "        vertical-align: middle;\n",
       "    }\n",
       "\n",
       "    .dataframe tbody tr th {\n",
       "        vertical-align: top;\n",
       "    }\n",
       "\n",
       "    .dataframe thead th {\n",
       "        text-align: right;\n",
       "    }\n",
       "</style>\n",
       "<table border=\"1\" class=\"dataframe\">\n",
       "  <thead>\n",
       "    <tr style=\"text-align: right;\">\n",
       "      <th></th>\n",
       "      <th>probs</th>\n",
       "    </tr>\n",
       "  </thead>\n",
       "  <tbody>\n",
       "    <tr>\n",
       "      <th>Mortality_Rate</th>\n",
       "      <td>1</td>\n",
       "    </tr>\n",
       "  </tbody>\n",
       "</table>\n",
       "</div>"
      ],
      "text/plain": [
       "Mortality_Rate    1\n",
       "Name: , dtype: int64"
      ]
     },
     "execution_count": 70,
     "metadata": {},
     "output_type": "execute_result"
    }
   ],
   "source": [
    "Pmf_Mortality_Rate=Pmf.from_seq('Mortality_Rate',normalize=False)\n",
    "Pmf_Mortality_Rate"
   ]
  },
  {
   "cell_type": "code",
   "execution_count": 71,
   "metadata": {},
   "outputs": [
    {
     "data": {
      "text/html": [
       "<div>\n",
       "<style scoped>\n",
       "    .dataframe tbody tr th:only-of-type {\n",
       "        vertical-align: middle;\n",
       "    }\n",
       "\n",
       "    .dataframe tbody tr th {\n",
       "        vertical-align: top;\n",
       "    }\n",
       "\n",
       "    .dataframe thead th {\n",
       "        text-align: right;\n",
       "    }\n",
       "</style>\n",
       "<table border=\"1\" class=\"dataframe\">\n",
       "  <thead>\n",
       "    <tr style=\"text-align: right;\">\n",
       "      <th></th>\n",
       "      <th>probs</th>\n",
       "    </tr>\n",
       "  </thead>\n",
       "  <tbody>\n",
       "    <tr>\n",
       "      <th>Mortality_Rate</th>\n",
       "      <td>1.0</td>\n",
       "    </tr>\n",
       "  </tbody>\n",
       "</table>\n",
       "</div>"
      ],
      "text/plain": [
       "Mortality_Rate    1.0\n",
       "Name: , dtype: float64"
      ]
     },
     "execution_count": 71,
     "metadata": {},
     "output_type": "execute_result"
    }
   ],
   "source": [
    "Pmf_Mortality_Rate=Pmf.from_seq('Mortality_Rate',normalize=True)\n",
    "Pmf_Mortality_Rate"
   ]
  },
  {
   "cell_type": "code",
   "execution_count": 67,
   "metadata": {},
   "outputs": [
    {
     "data": {
      "text/html": [
       "<div>\n",
       "<style scoped>\n",
       "    .dataframe tbody tr th:only-of-type {\n",
       "        vertical-align: middle;\n",
       "    }\n",
       "\n",
       "    .dataframe tbody tr th {\n",
       "        vertical-align: top;\n",
       "    }\n",
       "\n",
       "    .dataframe thead th {\n",
       "        text-align: right;\n",
       "    }\n",
       "</style>\n",
       "<table border=\"1\" class=\"dataframe\">\n",
       "  <thead>\n",
       "    <tr style=\"text-align: right;\">\n",
       "      <th></th>\n",
       "      <th>probs</th>\n",
       "    </tr>\n",
       "  </thead>\n",
       "  <tbody>\n",
       "    <tr>\n",
       "      <th>Normalized_Cases</th>\n",
       "      <td>1.0</td>\n",
       "    </tr>\n",
       "  </tbody>\n",
       "</table>\n",
       "</div>"
      ],
      "text/plain": [
       "Normalized_Cases    1.0\n",
       "Name: , dtype: float64"
      ]
     },
     "execution_count": 67,
     "metadata": {},
     "output_type": "execute_result"
    }
   ],
   "source": [
    "Pmf_Normalized_Cases=Pmf.from_seq('Normalized_Cases',normalize=True)\n",
    "Pmf_Normalized_Cases"
   ]
  },
  {
   "cell_type": "markdown",
   "metadata": {},
   "source": [
    "# Modelling distributions"
   ]
  },
  {
   "cell_type": "code",
   "execution_count": 73,
   "metadata": {},
   "outputs": [],
   "source": [
    "import numpy as np\n"
   ]
  },
  {
   "cell_type": "code",
   "execution_count": 75,
   "metadata": {},
   "outputs": [
    {
     "data": {
      "text/plain": [
       "array([ 1.05592738e+00, -1.03127983e+00, -1.05354552e-01,  1.36591771e+00,\n",
       "        5.78093353e-01,  1.17628841e+00,  1.11155408e+00,  8.80371804e-01,\n",
       "       -8.02564843e-01, -2.75108619e-01, -1.76811419e-01,  4.14660550e-01,\n",
       "        9.21946589e-01,  3.72801530e-01,  5.95193785e-01, -1.61632053e+00,\n",
       "        2.52170940e-01,  2.41991040e-01,  6.61218313e-01, -1.25631684e-01,\n",
       "       -8.35809498e-01, -3.12297568e-01,  7.42280674e-01, -2.33829726e+00,\n",
       "       -1.28066095e+00,  1.69413810e+00,  8.33785864e-01,  1.58877438e-01,\n",
       "        3.20703988e-01, -4.84181416e-01, -1.26847464e+00,  4.61694973e-01,\n",
       "       -4.27955742e-01,  1.07572495e-01,  2.58700383e-01,  1.00004244e+00,\n",
       "       -2.12952273e-03,  3.55159866e-01,  6.25649514e-01,  2.03284241e-01,\n",
       "        9.54618644e-01,  7.01983844e-01, -3.96369684e-01,  6.68733191e-01,\n",
       "       -9.51890924e-02,  2.92668091e+00,  3.01367265e-01,  6.87945816e-01,\n",
       "        7.61574811e-01, -1.29519366e+00,  3.06403338e-01, -2.20041972e+00,\n",
       "       -1.04227343e+00, -1.52465745e+00,  4.95251688e-01, -1.67546315e-01,\n",
       "        2.91242997e-02,  6.68010603e-01,  2.90296967e+00, -1.63782986e+00,\n",
       "        1.07357323e+00,  4.04866494e-03, -3.70832102e-01, -1.77226864e+00,\n",
       "       -6.25188418e-01,  8.99398903e-01, -1.84817405e-01, -5.73046027e-01,\n",
       "       -5.66022360e-01,  1.12960797e+00,  4.10291434e-01, -1.42100382e-01,\n",
       "        9.11759428e-01,  1.14723735e-01, -8.88455856e-02, -3.15624335e-01,\n",
       "        1.72523211e+00,  2.13311068e-01,  8.04794821e-02, -6.20965991e-01,\n",
       "        7.62950074e-01,  9.26762795e-01, -1.16847069e+00, -1.25948220e+00,\n",
       "        9.25705014e-01, -1.40296605e+00,  1.22137323e+00, -1.13100382e+00,\n",
       "        5.01403138e-01, -2.30564001e+00, -1.33361156e+00,  1.48556400e+00,\n",
       "       -4.95447971e-01, -4.59472050e-01, -1.46622622e+00,  6.22045718e-01,\n",
       "        5.00316106e-02, -1.67830507e+00, -1.06882823e+00, -2.87629788e-01,\n",
       "       -5.94925464e-01, -4.40908702e-01,  8.76655513e-01, -7.50905326e-01,\n",
       "       -6.64521753e-02,  4.10204820e-02, -3.37705855e-01,  7.06021454e-01,\n",
       "        8.92767122e-01,  4.52412030e-01,  1.18771077e+00, -7.70099158e-01,\n",
       "       -2.45753312e+00, -7.06861207e-01, -3.35481332e-01,  8.24542215e-01,\n",
       "        7.49902815e-01,  1.43524947e-01, -1.52207900e+00, -1.31312169e-01,\n",
       "        5.12043522e-01,  1.37864368e-01,  1.66363364e+00, -1.06000077e-01,\n",
       "        2.33661068e+00, -7.61110327e-01,  7.46843306e-01, -4.42702980e-01,\n",
       "        8.68356080e-01,  3.21013849e-01,  1.25732141e+00, -5.54727318e-01,\n",
       "        4.30604591e-01, -1.23442346e+00,  9.70284231e-02,  8.33794350e-01,\n",
       "       -3.08083309e-01, -8.23192733e-01,  5.71480032e-01,  1.34362980e+00,\n",
       "        1.87698130e-01,  3.02045304e-01, -4.08622661e-01, -1.81884334e-01,\n",
       "       -5.79072530e-01, -2.86753212e-01,  4.59604652e-01,  3.27999104e-01,\n",
       "        7.74535170e-01,  1.49208850e-02, -1.04057528e+00, -4.54447380e-01,\n",
       "        1.10321652e+00,  1.91025920e+00, -9.95329441e-01, -1.65032487e+00,\n",
       "        3.04616716e+00,  1.08382857e+00, -1.84308531e+00, -8.41164530e-01,\n",
       "       -7.70520853e-01, -8.78634334e-01,  1.39650411e+00, -2.03940618e+00,\n",
       "       -1.87410266e+00, -2.95368129e-01, -2.71840205e-01, -1.11440123e+00,\n",
       "       -2.55100266e-01, -2.14812050e+00, -1.34436998e+00, -7.78643387e-02,\n",
       "        5.08331469e-01, -2.91221208e-01, -2.50188552e-01, -5.76419519e-01,\n",
       "       -1.11222440e+00, -1.67247890e+00,  2.90633246e-01,  1.89389994e+00,\n",
       "       -1.33328429e+00, -6.70074183e-01, -3.09510551e-02,  1.91849728e+00,\n",
       "       -1.31393810e+00,  2.01422478e-01, -1.81197212e-01, -5.13055287e-02,\n",
       "        7.64408665e-01, -2.80049091e-02,  1.86345436e-02, -1.55055116e+00,\n",
       "        9.53066831e-01, -5.29581640e-02,  2.14234769e-01,  5.14082021e-01,\n",
       "        6.71256713e-01,  5.53040306e-01,  9.21385864e-01,  1.08315440e+00,\n",
       "        6.18161067e-01, -1.58274766e+00, -1.08307072e-01, -5.88743977e-01,\n",
       "       -5.44519363e-02, -2.08809649e-01,  1.04878733e-01, -3.02631858e-01,\n",
       "       -1.53548253e+00,  4.59027244e-01,  2.35023583e-01, -3.50115185e-01,\n",
       "       -8.77384830e-01,  9.31114736e-02,  9.16419644e-01, -2.92121118e-01,\n",
       "       -3.42843902e-01, -5.17319733e-01, -1.04398402e+00,  7.94351020e-01,\n",
       "        2.46837036e-01,  2.15783632e+00,  6.33582611e-01,  4.86055264e-01,\n",
       "        5.75932182e-01, -5.45164939e-01,  8.81910278e-02,  1.56793511e+00,\n",
       "        8.34825190e-01,  8.87063197e-01,  1.76871569e+00, -1.88834620e+00,\n",
       "        6.77451848e-02,  1.74570980e+00, -1.21391862e+00, -5.00231371e-01,\n",
       "        9.26371011e-01, -2.55636640e-01,  5.89726477e-01, -5.83301343e-01,\n",
       "        4.07894951e-01, -2.17875315e-01,  4.65826751e-01, -9.66246136e-01,\n",
       "       -8.06258809e-01,  1.28460955e+00,  3.86261709e-01,  1.44196586e+00,\n",
       "       -5.77733387e-01, -1.77077833e-01,  8.57560558e-01, -1.90245847e-01,\n",
       "        1.09315855e+00,  7.75643247e-02, -1.67714063e-01,  8.57425451e-01,\n",
       "        7.75655643e-01, -4.67898601e-01,  5.17621876e-01, -7.32322404e-01,\n",
       "        2.75410799e+00, -5.65123895e-01,  8.41513726e-01, -2.92674771e-01,\n",
       "       -3.39930014e-01,  1.06258852e+00, -1.01989049e+00,  7.72678553e-01,\n",
       "        7.00051328e-01,  7.96646403e-01,  3.33365037e+00,  1.02075361e+00,\n",
       "        1.17224222e+00,  1.26056612e+00,  3.72230894e-02, -1.83966018e+00,\n",
       "        5.51500904e-02,  7.37829938e-01,  1.94861154e+00,  1.56255923e-01,\n",
       "        8.75454475e-01,  1.70985520e+00, -2.95617476e-01, -1.23374211e+00,\n",
       "       -6.25486593e-01, -1.95928540e-01,  5.14296057e-01,  1.19922379e+00,\n",
       "        3.26979026e-01, -2.76723860e-01,  1.31899129e+00, -1.44848897e-01,\n",
       "        7.94877055e-01, -7.02762622e-01, -1.03860222e-01,  7.15354810e-01,\n",
       "        1.19928203e+00, -5.35104148e-01,  9.74845397e-01, -7.86612108e-01,\n",
       "       -1.01077316e+00,  2.47852327e-01,  2.55933238e+00, -2.72510917e-01,\n",
       "       -4.47028828e-01,  2.51120101e+00,  1.07377985e+00,  9.71443849e-01,\n",
       "        1.19780697e+00, -9.21046507e-01,  4.86247369e-01, -7.14628090e-01,\n",
       "        2.75543166e-01,  1.41302105e+00,  2.20997709e-01,  6.50884337e-01,\n",
       "       -1.30686317e+00, -1.81766001e+00,  6.55152378e-01,  8.15713930e-01,\n",
       "       -5.24725062e-01, -3.87486615e-01, -2.03500158e-01, -8.92883782e-01,\n",
       "       -3.62550588e-01, -9.07804082e-03, -9.18016072e-01, -7.38805728e-01,\n",
       "       -6.92857967e-01, -1.71946737e+00, -7.08098241e-01, -2.71847357e-01,\n",
       "        1.40874664e+00,  7.41105141e-01,  1.19584015e-01, -9.26531126e-01,\n",
       "       -8.98664047e-01,  2.13651124e+00,  4.35532195e-01,  8.16191783e-01,\n",
       "       -1.01309418e-01,  4.88202251e-02, -2.27838725e-01,  3.08637478e-01,\n",
       "        9.18742800e-01, -3.28801515e-01,  3.11043756e-01,  1.05376888e+00,\n",
       "        5.79933722e-01, -2.04104312e+00, -6.01049626e-01, -6.30511778e-01,\n",
       "        2.72137858e-01,  1.50916970e+00,  1.58223871e+00,  9.58092779e-01,\n",
       "       -2.10518046e+00,  3.77371665e-01,  1.35224204e-01, -8.36035394e-01,\n",
       "       -1.57974954e-01, -5.56379425e-01, -9.15667180e-01, -2.13758429e-01,\n",
       "        1.14213262e+00, -3.96374319e-01,  2.09891801e+00,  1.07696893e+00,\n",
       "        2.89061885e-01,  1.07599426e-01,  1.51130604e-01,  1.23756008e+00,\n",
       "       -6.00041694e-01,  8.99528752e-01, -7.47028677e-01, -1.89322401e-01,\n",
       "        2.02885029e-02,  1.15653944e+00, -6.82219286e-01,  8.26276131e-01,\n",
       "        1.09093282e+00, -1.35747479e+00,  6.63790243e-01,  3.22182292e-01,\n",
       "        2.88707693e-01, -7.88605016e-01, -6.41655166e-01, -3.37701239e-01,\n",
       "        7.14521138e-01,  2.66958723e-01, -4.02741278e-02, -1.66490571e-01,\n",
       "       -6.86014154e-01,  1.91695382e-01, -1.41635611e+00, -1.58735144e+00,\n",
       "       -1.32991314e-01, -6.00400252e-01, -6.58898723e-01,  1.04063407e+00,\n",
       "        1.64031873e+00,  5.68583433e-01,  1.92473777e+00,  1.55656195e-01,\n",
       "        8.76489809e-01, -1.38833017e-01,  2.52744881e-01,  9.58576586e-01,\n",
       "        1.28779916e+00, -4.93009029e-01,  1.76636863e-01, -9.32294044e-01,\n",
       "        9.47336723e-02,  3.69188491e-01, -6.41971960e-01,  4.09412174e-01,\n",
       "       -3.11718702e-01,  7.55444568e-01, -1.75178461e-01,  4.75214726e-01,\n",
       "       -6.27427743e-01,  3.84523805e-01, -4.53253563e-01,  1.12418813e+00,\n",
       "       -2.07611284e+00, -1.05238720e-01, -6.19508951e-01,  1.04652109e+00,\n",
       "       -2.01854477e-01, -1.23099070e+00, -3.43165513e-01,  5.20980843e-01,\n",
       "        6.00392462e-01, -2.08415565e+00, -1.06772470e+00,  6.12330174e-01,\n",
       "       -1.27959182e+00,  1.75976732e+00,  2.84439706e-01, -2.36090920e-01,\n",
       "       -5.09919125e-01,  6.59967519e-01,  4.25839933e-01,  7.35832730e-01,\n",
       "       -1.38114364e+00,  4.69702925e-01, -2.28305993e-01, -9.35695635e-01,\n",
       "       -4.85173940e-02,  3.32264231e-01, -1.10910700e+00,  1.05250446e+00,\n",
       "       -8.30801168e-02, -2.49954778e-01, -1.50983335e+00,  1.27463326e+00,\n",
       "        6.04342180e-01, -2.13290586e-01, -6.03167394e-01, -8.07300516e-01,\n",
       "        7.79422662e-01,  1.68416018e+00, -1.16704247e+00,  6.18302063e-01,\n",
       "        3.02960778e-01,  3.20284787e-01,  7.31569495e-01,  1.41984687e-01,\n",
       "       -7.50965590e-01, -4.62941063e-01,  6.72192459e-01,  1.32796572e-01,\n",
       "        1.29152931e+00, -4.76269346e-01,  2.06923060e-01, -3.18504173e-01,\n",
       "       -1.44017125e+00, -9.45704324e-01,  6.03686440e-02, -3.87508327e-01,\n",
       "       -5.47969625e-02, -3.96301099e-01, -1.98272232e+00, -7.66020922e-01,\n",
       "        1.09649915e+00, -4.10109984e-01,  2.31681920e+00, -7.98149998e-01,\n",
       "       -2.52783249e-01,  2.98172725e+00,  3.93669249e-01, -1.90335695e-01,\n",
       "        2.25942521e+00, -1.19121543e+00,  8.24951699e-01,  1.32377986e+00,\n",
       "        3.37839843e-01,  9.98440318e-02,  2.31809795e-01, -1.84288487e+00,\n",
       "       -7.29103167e-01, -1.16117185e+00,  6.74813361e-01, -9.38750649e-01,\n",
       "       -1.82651337e-01, -1.23839217e+00,  2.34510154e-01,  2.29943847e-01,\n",
       "       -1.27482146e+00, -3.80544653e-01,  1.75473920e+00, -4.87826389e-01,\n",
       "        4.71969572e-01, -4.95925678e-01, -2.99435519e-01,  7.98113507e-01,\n",
       "       -2.91079751e+00,  9.98195765e-01, -2.02858868e-01,  4.84355818e-01,\n",
       "        5.60158981e-01, -2.64357695e-01,  1.13133002e-01,  3.97595464e-01,\n",
       "       -1.12441276e+00,  1.09875927e+00,  7.50593662e-01, -7.12540051e-01,\n",
       "        1.34432513e+00, -8.82038296e-01,  1.29091537e+00,  1.53189130e-01,\n",
       "       -4.05091528e-01, -5.08254125e-01,  3.07094117e-01, -6.29947735e-01,\n",
       "       -1.36346387e+00, -4.65659686e-01, -4.43629176e-01, -6.21814964e-01,\n",
       "       -3.05109762e-01, -9.89395550e-01,  2.29312940e-01,  1.76945400e+00,\n",
       "       -1.73629695e-01,  2.08961207e-01, -6.49194917e-01,  1.02508927e+00,\n",
       "       -1.60555090e+00, -8.48690943e-01, -1.29999337e-02, -1.08149660e+00,\n",
       "       -3.77039375e-03,  3.56747393e-01,  7.19254490e-01,  9.11487822e-01,\n",
       "       -1.35677444e+00,  1.32729271e-01, -5.33384436e-01, -7.77849505e-01,\n",
       "        1.31345981e-01,  9.03185523e-01, -1.77077348e+00, -8.83378049e-01,\n",
       "        6.42267298e-01, -1.13754025e+00, -2.05686653e-01, -1.49654573e+00,\n",
       "        7.88569521e-01,  1.05223192e+00,  1.55111800e+00, -9.81550444e-01,\n",
       "        7.13550493e-02, -1.39600180e-01, -7.63757833e-02, -6.64908355e-01,\n",
       "       -4.89330627e-01,  1.06004464e+00,  2.14798341e+00, -1.88710470e-01,\n",
       "        6.98622307e-01, -1.68398316e+00,  1.69711633e+00, -9.96728773e-01,\n",
       "        7.98016371e-01,  1.65475278e+00,  1.91352843e+00,  5.58592623e-01,\n",
       "       -5.52806415e-01, -1.32365539e+00, -2.36508868e+00,  1.39822216e+00,\n",
       "        2.92036798e-01,  7.55260054e-01,  8.59440121e-01, -2.21035442e-01,\n",
       "        8.05069999e-01, -6.91251171e-01,  4.56650180e-01,  2.50317057e+00,\n",
       "       -6.35759685e-01,  2.64088372e+00,  1.00578671e+00,  9.32781182e-02,\n",
       "       -5.55318386e-02, -1.87315421e+00, -3.68611482e-01, -3.07586574e-01,\n",
       "        1.05981468e+00,  2.27140439e+00, -1.82947489e+00,  1.19529780e-01,\n",
       "       -8.54094151e-01,  3.53379114e-01, -8.34284463e-01,  6.34828550e-01,\n",
       "        2.77360321e-01, -6.18176728e-01,  9.12176482e-01, -8.65145757e-01,\n",
       "       -8.83033564e-01, -5.58721774e-01,  3.14989581e-01,  7.63595972e-01,\n",
       "       -2.67631152e-01,  5.68270710e-01, -1.97826637e-01,  4.26371281e-01,\n",
       "        2.82164541e-01,  4.24795894e-02, -2.89725509e-01,  1.05717074e+00,\n",
       "        4.76160006e-01,  1.47288018e+00,  1.38929055e+00, -5.95411669e-01,\n",
       "       -7.48905119e-01,  1.47531056e+00, -1.96730349e+00,  5.98052636e-01,\n",
       "       -7.92060492e-01, -4.76196126e-02, -4.44965695e-01,  9.79280249e-01,\n",
       "        1.49166400e+00,  1.69378422e+00,  1.53695175e+00,  6.66539523e-01,\n",
       "        8.18625949e-01, -4.62308458e-01, -4.94752483e-01, -1.32357770e-01,\n",
       "       -1.90344766e-01, -8.44922506e-01,  1.10761661e-01,  3.95570360e-01,\n",
       "        1.58491786e+00,  1.04185851e+00, -5.22176950e-01, -6.44491650e-01,\n",
       "        5.03718436e-02, -1.18010788e+00, -1.09651929e-01, -7.71856421e-01,\n",
       "        9.50478226e-01,  1.45542371e+00,  1.33791917e+00, -1.66616400e+00,\n",
       "       -4.63456723e-01, -1.33636952e+00, -2.12217544e-01,  1.15742406e+00,\n",
       "        6.34317833e-01,  6.49346033e-02, -8.24436408e-01, -1.77659688e-01,\n",
       "       -5.14484566e-01,  1.72058632e+00,  5.38545768e-01, -7.58249960e-01,\n",
       "       -1.19316478e+00, -2.35081582e-02,  5.91461608e-01,  1.20951415e+00,\n",
       "       -7.09313239e-01,  2.14561854e+00, -4.84607356e-02,  1.32437054e+00,\n",
       "       -5.27939920e-01, -3.58137103e-01,  8.83748332e-01,  1.50531427e+00,\n",
       "        1.69711918e+00,  1.16633505e+00,  3.88522897e-02, -8.97521285e-01,\n",
       "       -3.26277959e-01,  3.44063884e-01,  6.97592428e-01,  1.25383044e-01,\n",
       "       -1.40483672e+00, -3.28762256e-01,  5.36232040e-01,  5.28280689e-01,\n",
       "       -1.87278580e-01,  1.95987577e-01,  6.73546952e-01,  8.20146339e-01,\n",
       "        1.08299376e+00, -7.45319681e-01, -3.47267120e-01,  2.16451591e-01,\n",
       "       -3.72570133e-01,  4.29857857e-01,  1.28870582e+00,  1.90198703e-02,\n",
       "        9.88836739e-01,  3.87401366e-01, -5.52647619e-01,  1.77080289e-01,\n",
       "        4.26249625e-01,  9.02576862e-01,  2.69424947e-01,  1.89468938e+00,\n",
       "        1.54996093e-01,  1.82792852e+00, -5.30216203e-01, -2.02142176e-01,\n",
       "       -4.41645943e-01, -2.21461274e+00,  3.15460996e-01, -4.21015543e-01,\n",
       "       -7.35375592e-01,  9.08407495e-01, -1.24957766e+00, -7.91489310e-02,\n",
       "        1.11596209e+00,  8.51157900e-01,  1.54225048e+00,  3.92217494e-01,\n",
       "       -9.67464384e-01,  2.05598151e-01,  1.48503383e-01, -6.47688051e-01,\n",
       "        3.74673411e-01, -1.28229814e+00, -2.48049160e-01,  8.43618695e-01,\n",
       "       -5.91256447e-01,  1.29601835e+00,  2.32610103e+00,  1.08196454e+00,\n",
       "        1.39879843e+00,  2.44452349e+00,  3.40847550e-01,  1.49941340e-01,\n",
       "       -7.87961484e-01, -1.00928472e+00, -1.15220775e+00,  4.80397431e-01,\n",
       "        6.78055868e-01,  1.44624862e+00,  1.72487054e+00,  1.84130551e+00,\n",
       "        2.50843429e-01, -1.74233598e+00, -1.21225197e-01, -1.26713418e+00,\n",
       "        7.49889894e-01, -2.87740234e-01, -1.41439643e+00, -8.79306684e-01,\n",
       "       -4.89824159e-01,  2.30234645e+00,  1.25049390e+00, -6.91404520e-01,\n",
       "        9.61332430e-01,  6.39786109e-01, -1.13179497e+00,  1.40918508e+00,\n",
       "        1.82896149e-01, -1.65058151e+00,  3.35509163e-01,  1.06394000e+00,\n",
       "        9.88898805e-01, -7.09463084e-01, -4.07388664e-01, -1.46081475e+00,\n",
       "        1.71083013e+00,  4.38910926e-01,  1.60807011e-01, -3.65114459e-01,\n",
       "        7.23543782e-01,  1.99709513e-01,  7.08385051e-01, -2.98606530e-01,\n",
       "       -1.89068810e-01,  8.19076152e-02,  5.72002304e-01,  1.31680401e+00,\n",
       "        4.90468273e-01,  1.92184102e-01, -8.25330547e-01,  1.01946718e+00,\n",
       "       -4.40281331e-01,  7.66827229e-01, -1.13776387e+00, -1.23052667e+00,\n",
       "        1.81789402e-01, -8.26829692e-01,  2.02169222e-01, -2.05417549e-01,\n",
       "        3.90387322e-01, -3.68580262e-01, -1.94572221e-01,  4.80429727e-01,\n",
       "       -2.75680485e-01, -1.00190479e+00, -1.80044083e+00, -1.22718425e+00,\n",
       "        1.13404454e+00, -2.09210896e+00,  5.86590842e-01, -8.52449639e-01,\n",
       "        4.80512689e-01,  1.30898188e-01, -4.25123413e-01, -8.41466617e-01,\n",
       "       -9.11818977e-01,  1.34382329e+00, -1.40449062e+00, -9.10019874e-02,\n",
       "        1.48827986e-01, -5.98366625e-02, -5.50839215e-01,  1.54064705e+00,\n",
       "        4.97553348e-01,  2.08140468e-01,  1.04519737e+00, -1.78886933e+00,\n",
       "       -4.08041550e-01, -2.68510694e-01,  5.27855920e-01, -8.59506683e-01,\n",
       "       -2.76304043e-01,  1.08553605e+00,  3.34989538e-01, -1.37708663e+00,\n",
       "        1.73012252e+00, -6.18258314e-01,  1.07544893e+00,  1.75285214e+00,\n",
       "       -4.94456764e-01,  7.50848522e-02,  2.77724030e-01, -3.25605221e-01,\n",
       "        5.03824546e-01, -5.65916464e-01, -4.23120307e-02,  5.48993589e-01,\n",
       "        1.38280071e+00,  6.38846742e-01,  9.55626537e-01, -1.10741970e+00,\n",
       "       -7.20380119e-01, -4.79446513e-01,  6.47415044e-01,  1.20808641e-01,\n",
       "        3.26343560e-01, -1.22905088e+00,  2.13074462e+00,  1.34255731e+00,\n",
       "        2.55379623e-01, -2.63380413e-01, -1.43311471e+00, -1.46021289e-02,\n",
       "        5.37565489e-01, -1.57068775e+00, -1.14326443e+00, -2.21732265e+00,\n",
       "       -1.22366898e+00,  2.96655960e-01,  1.89034182e+00,  1.11064949e+00,\n",
       "        1.87474542e+00,  1.34115220e+00,  1.84177935e+00, -2.84280271e-01,\n",
       "       -7.09678108e-01,  1.04708248e+00,  4.80738489e-01,  8.50564552e-01,\n",
       "        4.23522709e-02,  2.59608185e-01, -1.15563264e+00, -7.18211892e-01,\n",
       "        7.22533028e-02,  1.25950198e+00,  1.49707857e+00, -2.63233133e-01,\n",
       "       -8.19510729e-01,  6.74578588e-01, -3.29507714e-01,  3.76860169e-01,\n",
       "        3.94799468e-01,  1.09356312e+00, -7.38404724e-01, -1.20252191e+00,\n",
       "       -9.19875514e-01, -2.32082547e+00, -1.72526406e-01, -7.03147659e-01,\n",
       "        1.65131234e-01, -7.97131692e-01, -1.50666457e+00, -1.43414702e+00,\n",
       "        2.95241647e-01,  2.67608260e+00,  2.29811465e-01, -1.02899911e+00,\n",
       "       -6.70899669e-01,  2.43929511e+00, -2.98221519e-01, -1.88050739e+00,\n",
       "       -9.62192598e-02, -6.49423721e-02, -6.04808928e-01,  1.64288268e+00,\n",
       "        2.98643634e-03,  7.59769044e-01, -1.49685324e+00,  8.40723593e-01,\n",
       "       -1.37297398e-01,  2.52542878e-01, -2.28179269e+00, -8.86740331e-01,\n",
       "        3.20801477e-01,  1.55496572e+00,  2.49688480e-01,  7.65596084e-01,\n",
       "       -4.92081675e-01, -1.37798293e+00, -6.21994804e-01,  2.26487550e-01,\n",
       "        6.98467277e-01,  5.10928740e-01, -2.03560693e+00,  3.64534101e-01,\n",
       "       -2.98432927e-01, -2.01664319e+00,  3.34721003e-01,  2.79069531e-01,\n",
       "       -1.38304170e+00,  6.07881365e-01,  3.83800691e-01, -1.31411249e+00,\n",
       "        1.38119271e+00,  1.78976685e+00,  7.39346983e-01,  1.57364511e-02,\n",
       "       -4.36848455e-02,  3.40683130e-01,  1.61656397e+00,  3.03364621e-01,\n",
       "        1.15519399e+00, -1.04584547e+00, -1.17056213e+00, -3.78384894e-01,\n",
       "        8.51533287e-01,  1.58919677e-01, -2.88530824e-01, -5.19009473e-01,\n",
       "       -1.24242822e+00, -2.27705658e+00,  3.49019290e-02,  1.77183336e+00,\n",
       "        5.43118639e-01, -5.20560354e-01, -6.95436417e-01, -1.29481618e+00,\n",
       "        1.36962044e-01,  6.18143283e-02, -1.00016990e+00,  7.49415258e-01,\n",
       "       -2.04099500e+00, -1.06694763e+00, -4.31372839e-01,  1.04546287e+00,\n",
       "       -1.00120851e+00,  3.54629308e-01, -1.17064431e+00,  4.50967568e-01,\n",
       "       -1.03569323e+00,  1.59553457e+00, -9.90691645e-01,  5.36335878e-01,\n",
       "       -8.75148519e-01,  1.82892960e-01, -4.62359982e-01, -1.35430893e+00])"
      ]
     },
     "execution_count": 75,
     "metadata": {},
     "output_type": "execute_result"
    }
   ],
   "source": [
    "sample=np.random.normal(size=1000)\n",
    "sample"
   ]
  },
  {
   "cell_type": "code",
   "execution_count": 82,
   "metadata": {},
   "outputs": [
    {
     "data": {
      "text/plain": [
       "(array([0., 0., 0., 0., 0., 1., 0., 0., 0., 0.]),\n",
       " array([-0.5, -0.4, -0.3, -0.2, -0.1,  0. ,  0.1,  0.2,  0.3,  0.4,  0.5]),\n",
       " <BarContainer object of 10 artists>)"
      ]
     },
     "execution_count": 82,
     "metadata": {},
     "output_type": "execute_result"
    },
    {
     "data": {
      "image/png": "[encoded data removed]",
      "text/plain": [
       "<Figure size 432x288 with 1 Axes>"
      ]
     },
     "metadata": {
      "needs_background": "light"
     },
     "output_type": "display_data"
    }
   ],
   "source": [
    "plt.hist('sample', color=\"purple\")"
   ]
  },
  {
   "cell_type": "code",
   "execution_count": 81,
   "metadata": {},
   "outputs": [
    {
     "data": {
      "image/png": "[encoded data removed]",
      "text/plain": [
       "<Figure size 432x288 with 1 Axes>"
      ]
     },
     "metadata": {
      "needs_background": "light"
     },
     "output_type": "display_data"
    }
   ],
   "source": [
    "plt.plot(sample, color='green');"
   ]
  },
  {
   "cell_type": "code",
   "execution_count": 84,
   "metadata": {},
   "outputs": [
    {
     "ename": "NameError",
     "evalue": "name 'CDF' is not defined",
     "output_type": "error",
     "traceback": [
      "\u001b[1;31m---------------------------------------------------------------------------\u001b[0m",
      "\u001b[1;31mNameError\u001b[0m                                 Traceback (most recent call last)",
      "\u001b[1;32m<ipython-input-84-368f85bbe0b2>\u001b[0m in \u001b[0;36m<module>\u001b[1;34m\u001b[0m\n\u001b[1;32m----> 1\u001b[1;33m \u001b[0mCDF_sample\u001b[0m\u001b[1;33m=\u001b[0m\u001b[0mCDF\u001b[0m\u001b[1;33m.\u001b[0m\u001b[0mfrom_seq\u001b[0m\u001b[1;33m(\u001b[0m\u001b[0msample\u001b[0m\u001b[1;33m)\u001b[0m\u001b[1;33m\u001b[0m\u001b[1;33m\u001b[0m\u001b[0m\n\u001b[0m",
      "\u001b[1;31mNameError\u001b[0m: name 'CDF' is not defined"
     ]
    }
   ],
   "source": [
    "Cdf_sample=Cdf.from_seq(sample)"
   ]
  },
  {
   "cell_type": "code",
   "execution_count": 85,
   "metadata": {},
   "outputs": [
    {
     "name": "stdout",
     "output_type": "stream",
     "text": [
      "Collecting Cdf\n",
      "  Downloading CDF-0.32.tar.gz (859 kB)\n",
      "Building wheels for collected packages: Cdf\n",
      "  Building wheel for Cdf (setup.py): started\n",
      "  Building wheel for Cdf (setup.py): finished with status 'error'\n",
      "  Running setup.py clean for Cdf\n",
      "Failed to build Cdf\n",
      "Installing collected packages: Cdf\n",
      "    Running setup.py install for Cdf: started\n",
      "    Running setup.py install for Cdf: finished with status 'error'\n"
     ]
    },
    {
     "name": "stderr",
     "output_type": "stream",
     "text": [
      "  ERROR: Command errored out with exit status 1:\n",
      "   command: 'C:\\Users\\vicka336\\Anaconda3\\python.exe' -u -c 'import sys, setuptools, tokenize; sys.argv[0] = '\"'\"'C:\\\\Users\\\\vicka336\\\\AppData\\\\Local\\\\Temp\\\\pip-install-tmqyfzy0\\\\cdf\\\\setup.py'\"'\"'; __file__='\"'\"'C:\\\\Users\\\\vicka336\\\\AppData\\\\Local\\\\Temp\\\\pip-install-tmqyfzy0\\\\cdf\\\\setup.py'\"'\"';f=getattr(tokenize, '\"'\"'open'\"'\"', open)(__file__);code=f.read().replace('\"'\"'\\r\\n'\"'\"', '\"'\"'\\n'\"'\"');f.close();exec(compile(code, __file__, '\"'\"'exec'\"'\"'))' bdist_wheel -d 'C:\\Users\\vicka336\\AppData\\Local\\Temp\\pip-wheel-47z_heso'\n",
      "       cwd: C:\\Users\\vicka336\\AppData\\Local\\Temp\\pip-install-tmqyfzy0\\cdf\\\n",
      "  Complete output (19 lines):\n",
      "  running bdist_wheel\n",
      "  running build\n",
      "  running build_py\n",
      "  creating build\n",
      "  creating build\\lib.win-amd64-3.8\n",
      "  creating build\\lib.win-amd64-3.8\\cdf\n",
      "  copying cdf\\__init__.py -> build\\lib.win-amd64-3.8\\cdf\n",
      "  copying cdf\\standard.py -> build\\lib.win-amd64-3.8\\cdf\n",
      "  copying cdf\\interface.py -> build\\lib.win-amd64-3.8\\cdf\n",
      "  copying cdf\\framework.py -> build\\lib.win-amd64-3.8\\cdf\n",
      "  copying cdf\\attribute.py -> build\\lib.win-amd64-3.8\\cdf\n",
      "  copying cdf\\entry.py -> build\\lib.win-amd64-3.8\\cdf\n",
      "  copying cdf\\typing.py -> build\\lib.win-amd64-3.8\\cdf\n",
      "  creating build\\lib.win-amd64-3.8\\cdf\\istp\n",
      "  copying cdf\\istp\\__init__.py -> build\\lib.win-amd64-3.8\\cdf\\istp\n",
      "  copying cdf\\istp\\interface.py -> build\\lib.win-amd64-3.8\\cdf\\istp\n",
      "  running build_ext\n",
      "  building 'cdf.internal' extension\n",
      "  error: Microsoft Visual C++ 14.0 or greater is required. Get it with \"Microsoft C++ Build Tools\": https://visualstudio.microsoft.com/visual-cpp-build-tools/\n",
      "  ----------------------------------------\n",
      "  ERROR: Failed building wheel for Cdf\n",
      "    ERROR: Command errored out with exit status 1:\n",
      "     command: 'C:\\Users\\vicka336\\Anaconda3\\python.exe' -u -c 'import sys, setuptools, tokenize; sys.argv[0] = '\"'\"'C:\\\\Users\\\\vicka336\\\\AppData\\\\Local\\\\Temp\\\\pip-install-tmqyfzy0\\\\cdf\\\\setup.py'\"'\"'; __file__='\"'\"'C:\\\\Users\\\\vicka336\\\\AppData\\\\Local\\\\Temp\\\\pip-install-tmqyfzy0\\\\cdf\\\\setup.py'\"'\"';f=getattr(tokenize, '\"'\"'open'\"'\"', open)(__file__);code=f.read().replace('\"'\"'\\r\\n'\"'\"', '\"'\"'\\n'\"'\"');f.close();exec(compile(code, __file__, '\"'\"'exec'\"'\"'))' install --record 'C:\\Users\\vicka336\\AppData\\Local\\Temp\\pip-record-wnqnl2ai\\install-record.txt' --single-version-externally-managed --compile --install-headers 'C:\\Users\\vicka336\\Anaconda3\\Include\\Cdf'\n",
      "         cwd: C:\\Users\\vicka336\\AppData\\Local\\Temp\\pip-install-tmqyfzy0\\cdf\\\n",
      "    Complete output (19 lines):\n",
      "    running install\n",
      "    running build\n",
      "    running build_py\n",
      "    creating build\n",
      "    creating build\\lib.win-amd64-3.8\n",
      "    creating build\\lib.win-amd64-3.8\\cdf\n",
      "    copying cdf\\__init__.py -> build\\lib.win-amd64-3.8\\cdf\n",
      "    copying cdf\\standard.py -> build\\lib.win-amd64-3.8\\cdf\n",
      "    copying cdf\\interface.py -> build\\lib.win-amd64-3.8\\cdf\n",
      "    copying cdf\\framework.py -> build\\lib.win-amd64-3.8\\cdf\n",
      "    copying cdf\\attribute.py -> build\\lib.win-amd64-3.8\\cdf\n",
      "    copying cdf\\entry.py -> build\\lib.win-amd64-3.8\\cdf\n",
      "    copying cdf\\typing.py -> build\\lib.win-amd64-3.8\\cdf\n",
      "    creating build\\lib.win-amd64-3.8\\cdf\\istp\n",
      "    copying cdf\\istp\\__init__.py -> build\\lib.win-amd64-3.8\\cdf\\istp\n",
      "    copying cdf\\istp\\interface.py -> build\\lib.win-amd64-3.8\\cdf\\istp\n",
      "    running build_ext\n",
      "    building 'cdf.internal' extension\n",
      "    error: Microsoft Visual C++ 14.0 or greater is required. Get it with \"Microsoft C++ Build Tools\": https://visualstudio.microsoft.com/visual-cpp-build-tools/\n",
      "    ----------------------------------------\n",
      "ERROR: Command errored out with exit status 1: 'C:\\Users\\vicka336\\Anaconda3\\python.exe' -u -c 'import sys, setuptools, tokenize; sys.argv[0] = '\"'\"'C:\\\\Users\\\\vicka336\\\\AppData\\\\Local\\\\Temp\\\\pip-install-tmqyfzy0\\\\cdf\\\\setup.py'\"'\"'; __file__='\"'\"'C:\\\\Users\\\\vicka336\\\\AppData\\\\Local\\\\Temp\\\\pip-install-tmqyfzy0\\\\cdf\\\\setup.py'\"'\"';f=getattr(tokenize, '\"'\"'open'\"'\"', open)(__file__);code=f.read().replace('\"'\"'\\r\\n'\"'\"', '\"'\"'\\n'\"'\"');f.close();exec(compile(code, __file__, '\"'\"'exec'\"'\"'))' install --record 'C:\\Users\\vicka336\\AppData\\Local\\Temp\\pip-record-wnqnl2ai\\install-record.txt' --single-version-externally-managed --compile --install-headers 'C:\\Users\\vicka336\\Anaconda3\\Include\\Cdf' Check the logs for full command output.\n"
     ]
    }
   ],
   "source": [
    "!pip install Cdf"
   ]
  },
  {
   "cell_type": "code",
   "execution_count": 86,
   "metadata": {
    "scrolled": true
   },
   "outputs": [
    {
     "ename": "NameError",
     "evalue": "name 'Cdf' is not defined",
     "output_type": "error",
     "traceback": [
      "\u001b[1;31m---------------------------------------------------------------------------\u001b[0m",
      "\u001b[1;31mNameError\u001b[0m                                 Traceback (most recent call last)",
      "\u001b[1;32m<ipython-input-86-2928d2f4407c>\u001b[0m in \u001b[0;36m<module>\u001b[1;34m\u001b[0m\n\u001b[1;32m----> 1\u001b[1;33m \u001b[0mCdf_sample\u001b[0m\u001b[1;33m=\u001b[0m\u001b[0mCdf\u001b[0m\u001b[1;33m.\u001b[0m\u001b[0mfrom_seq\u001b[0m\u001b[1;33m(\u001b[0m\u001b[0msample\u001b[0m\u001b[1;33m)\u001b[0m\u001b[1;33m\u001b[0m\u001b[1;33m\u001b[0m\u001b[0m\n\u001b[0m",
      "\u001b[1;31mNameError\u001b[0m: name 'Cdf' is not defined"
     ]
    }
   ],
   "source": [
    "Cdf_sample=Cdf.from_seq(sample)"
   ]
  },
  {
   "cell_type": "code",
   "execution_count": 87,
   "metadata": {},
   "outputs": [
    {
     "name": "stdout",
     "output_type": "stream",
     "text": [
      "Collecting CDF\n",
      "  Using cached CDF-0.32.tar.gz (859 kB)\n",
      "Building wheels for collected packages: CDF\n",
      "  Building wheel for CDF (setup.py): started\n",
      "  Building wheel for CDF (setup.py): finished with status 'error'\n",
      "  Running setup.py clean for CDF\n",
      "Failed to build CDF\n",
      "Installing collected packages: CDF\n",
      "    Running setup.py install for CDF: started\n",
      "    Running setup.py install for CDF: finished with status 'error'\n"
     ]
    },
    {
     "name": "stderr",
     "output_type": "stream",
     "text": [
      "  ERROR: Command errored out with exit status 1:\n",
      "   command: 'C:\\Users\\vicka336\\Anaconda3\\python.exe' -u -c 'import sys, setuptools, tokenize; sys.argv[0] = '\"'\"'C:\\\\Users\\\\vicka336\\\\AppData\\\\Local\\\\Temp\\\\pip-install-oyyazwnb\\\\cdf\\\\setup.py'\"'\"'; __file__='\"'\"'C:\\\\Users\\\\vicka336\\\\AppData\\\\Local\\\\Temp\\\\pip-install-oyyazwnb\\\\cdf\\\\setup.py'\"'\"';f=getattr(tokenize, '\"'\"'open'\"'\"', open)(__file__);code=f.read().replace('\"'\"'\\r\\n'\"'\"', '\"'\"'\\n'\"'\"');f.close();exec(compile(code, __file__, '\"'\"'exec'\"'\"'))' bdist_wheel -d 'C:\\Users\\vicka336\\AppData\\Local\\Temp\\pip-wheel-c56dbygr'\n",
      "       cwd: C:\\Users\\vicka336\\AppData\\Local\\Temp\\pip-install-oyyazwnb\\cdf\\\n",
      "  Complete output (19 lines):\n",
      "  running bdist_wheel\n",
      "  running build\n",
      "  running build_py\n",
      "  creating build\n",
      "  creating build\\lib.win-amd64-3.8\n",
      "  creating build\\lib.win-amd64-3.8\\cdf\n",
      "  copying cdf\\__init__.py -> build\\lib.win-amd64-3.8\\cdf\n",
      "  copying cdf\\standard.py -> build\\lib.win-amd64-3.8\\cdf\n",
      "  copying cdf\\interface.py -> build\\lib.win-amd64-3.8\\cdf\n",
      "  copying cdf\\framework.py -> build\\lib.win-amd64-3.8\\cdf\n",
      "  copying cdf\\attribute.py -> build\\lib.win-amd64-3.8\\cdf\n",
      "  copying cdf\\entry.py -> build\\lib.win-amd64-3.8\\cdf\n",
      "  copying cdf\\typing.py -> build\\lib.win-amd64-3.8\\cdf\n",
      "  creating build\\lib.win-amd64-3.8\\cdf\\istp\n",
      "  copying cdf\\istp\\__init__.py -> build\\lib.win-amd64-3.8\\cdf\\istp\n",
      "  copying cdf\\istp\\interface.py -> build\\lib.win-amd64-3.8\\cdf\\istp\n",
      "  running build_ext\n",
      "  building 'cdf.internal' extension\n",
      "  error: Microsoft Visual C++ 14.0 or greater is required. Get it with \"Microsoft C++ Build Tools\": https://visualstudio.microsoft.com/visual-cpp-build-tools/\n",
      "  ----------------------------------------\n",
      "  ERROR: Failed building wheel for CDF\n",
      "    ERROR: Command errored out with exit status 1:\n",
      "     command: 'C:\\Users\\vicka336\\Anaconda3\\python.exe' -u -c 'import sys, setuptools, tokenize; sys.argv[0] = '\"'\"'C:\\\\Users\\\\vicka336\\\\AppData\\\\Local\\\\Temp\\\\pip-install-oyyazwnb\\\\cdf\\\\setup.py'\"'\"'; __file__='\"'\"'C:\\\\Users\\\\vicka336\\\\AppData\\\\Local\\\\Temp\\\\pip-install-oyyazwnb\\\\cdf\\\\setup.py'\"'\"';f=getattr(tokenize, '\"'\"'open'\"'\"', open)(__file__);code=f.read().replace('\"'\"'\\r\\n'\"'\"', '\"'\"'\\n'\"'\"');f.close();exec(compile(code, __file__, '\"'\"'exec'\"'\"'))' install --record 'C:\\Users\\vicka336\\AppData\\Local\\Temp\\pip-record-wjs88m1e\\install-record.txt' --single-version-externally-managed --compile --install-headers 'C:\\Users\\vicka336\\Anaconda3\\Include\\CDF'\n",
      "         cwd: C:\\Users\\vicka336\\AppData\\Local\\Temp\\pip-install-oyyazwnb\\cdf\\\n",
      "    Complete output (19 lines):\n",
      "    running install\n",
      "    running build\n",
      "    running build_py\n",
      "    creating build\n",
      "    creating build\\lib.win-amd64-3.8\n",
      "    creating build\\lib.win-amd64-3.8\\cdf\n",
      "    copying cdf\\__init__.py -> build\\lib.win-amd64-3.8\\cdf\n",
      "    copying cdf\\standard.py -> build\\lib.win-amd64-3.8\\cdf\n",
      "    copying cdf\\interface.py -> build\\lib.win-amd64-3.8\\cdf\n",
      "    copying cdf\\framework.py -> build\\lib.win-amd64-3.8\\cdf\n",
      "    copying cdf\\attribute.py -> build\\lib.win-amd64-3.8\\cdf\n",
      "    copying cdf\\entry.py -> build\\lib.win-amd64-3.8\\cdf\n",
      "    copying cdf\\typing.py -> build\\lib.win-amd64-3.8\\cdf\n",
      "    creating build\\lib.win-amd64-3.8\\cdf\\istp\n",
      "    copying cdf\\istp\\__init__.py -> build\\lib.win-amd64-3.8\\cdf\\istp\n",
      "    copying cdf\\istp\\interface.py -> build\\lib.win-amd64-3.8\\cdf\\istp\n",
      "    running build_ext\n",
      "    building 'cdf.internal' extension\n",
      "    error: Microsoft Visual C++ 14.0 or greater is required. Get it with \"Microsoft C++ Build Tools\": https://visualstudio.microsoft.com/visual-cpp-build-tools/\n",
      "    ----------------------------------------\n",
      "ERROR: Command errored out with exit status 1: 'C:\\Users\\vicka336\\Anaconda3\\python.exe' -u -c 'import sys, setuptools, tokenize; sys.argv[0] = '\"'\"'C:\\\\Users\\\\vicka336\\\\AppData\\\\Local\\\\Temp\\\\pip-install-oyyazwnb\\\\cdf\\\\setup.py'\"'\"'; __file__='\"'\"'C:\\\\Users\\\\vicka336\\\\AppData\\\\Local\\\\Temp\\\\pip-install-oyyazwnb\\\\cdf\\\\setup.py'\"'\"';f=getattr(tokenize, '\"'\"'open'\"'\"', open)(__file__);code=f.read().replace('\"'\"'\\r\\n'\"'\"', '\"'\"'\\n'\"'\"');f.close();exec(compile(code, __file__, '\"'\"'exec'\"'\"'))' install --record 'C:\\Users\\vicka336\\AppData\\Local\\Temp\\pip-record-wjs88m1e\\install-record.txt' --single-version-externally-managed --compile --install-headers 'C:\\Users\\vicka336\\Anaconda3\\Include\\CDF' Check the logs for full command output.\n"
     ]
    }
   ],
   "source": [
    "!pip install CDF"
   ]
  },
  {
   "cell_type": "code",
   "execution_count": 89,
   "metadata": {},
   "outputs": [
    {
     "ename": "ModuleNotFoundError",
     "evalue": "No module named 'Cdf'",
     "output_type": "error",
     "traceback": [
      "\u001b[1;31m---------------------------------------------------------------------------\u001b[0m",
      "\u001b[1;31mModuleNotFoundError\u001b[0m                       Traceback (most recent call last)",
      "\u001b[1;32m<ipython-input-89-13453d7eba9f>\u001b[0m in \u001b[0;36m<module>\u001b[1;34m\u001b[0m\n\u001b[1;32m----> 1\u001b[1;33m \u001b[1;32mimport\u001b[0m \u001b[0mCdf\u001b[0m\u001b[1;33m\u001b[0m\u001b[1;33m\u001b[0m\u001b[0m\n\u001b[0m",
      "\u001b[1;31mModuleNotFoundError\u001b[0m: No module named 'Cdf'"
     ]
    }
   ],
   "source": [
    "import Cdf "
   ]
  },
  {
   "cell_type": "code",
   "execution_count": 91,
   "metadata": {},
   "outputs": [
    {
     "name": "stdout",
     "output_type": "stream",
     "text": [
      "Object `Cdf` not found.\n"
     ]
    }
   ],
   "source": [
    "??Cdf"
   ]
  },
  {
   "cell_type": "code",
   "execution_count": 94,
   "metadata": {},
   "outputs": [
    {
     "name": "stdout",
     "output_type": "stream",
     "text": [
      "Object `scipy` not found.\n"
     ]
    }
   ],
   "source": [
    "?scipy"
   ]
  },
  {
   "cell_type": "code",
   "execution_count": 95,
   "metadata": {},
   "outputs": [
    {
     "name": "stdout",
     "output_type": "stream",
     "text": [
      "Requirement already satisfied: scipy in c:\\users\\vicka336\\anaconda3\\lib\\site-packages (1.5.2)\n",
      "Requirement already satisfied: numpy>=1.14.5 in c:\\users\\vicka336\\anaconda3\\lib\\site-packages (from scipy) (1.19.2)\n"
     ]
    }
   ],
   "source": [
    "!pip install scipy"
   ]
  },
  {
   "cell_type": "code",
   "execution_count": 96,
   "metadata": {},
   "outputs": [],
   "source": [
    "from scipy.stats import norm"
   ]
  },
  {
   "cell_type": "code",
   "execution_count": 101,
   "metadata": {},
   "outputs": [
    {
     "data": {
      "text/plain": [
       "array([0.0013499 , 0.00200388, 0.00293369, 0.00423604, 0.00603307,\n",
       "       0.00847582, 0.01174695, 0.01606229, 0.02167053, 0.02885073,\n",
       "       0.03790684, 0.0491592 , 0.06293263, 0.07954137, 0.0992714 ,\n",
       "       0.12236094, 0.1489804 , 0.17921329, 0.21303974, 0.25032436,\n",
       "       0.29080984, 0.33411757, 0.37975571, 0.42713481, 0.47559021,\n",
       "       0.52440979, 0.57286519, 0.62024429, 0.66588243, 0.70919016,\n",
       "       0.74967564, 0.78696026, 0.82078671, 0.8510196 , 0.87763906,\n",
       "       0.9007286 , 0.92045863, 0.93706737, 0.9508408 , 0.96209316,\n",
       "       0.97114927, 0.97832947, 0.98393771, 0.98825305, 0.99152418,\n",
       "       0.99396693, 0.99576396, 0.99706631, 0.99799612, 0.9986501 ])"
      ]
     },
     "execution_count": 101,
     "metadata": {},
     "output_type": "execute_result"
    }
   ],
   "source": [
    "xs=np.linspace(-3,3)\n",
    "ys=norm(0,1).cdf(xs)\n",
    "ys"
   ]
  },
  {
   "cell_type": "code",
   "execution_count": 102,
   "metadata": {},
   "outputs": [
    {
     "data": {
      "text/plain": [
       "[<matplotlib.lines.Line2D at 0x1e0b9cb4550>]"
      ]
     },
     "execution_count": 102,
     "metadata": {},
     "output_type": "execute_result"
    },
    {
     "data": {
      "image/png": "[encoded data removed]",
      "text/plain": [
       "<Figure size 432x288 with 1 Axes>"
      ]
     },
     "metadata": {
      "needs_background": "light"
     },
     "output_type": "display_data"
    }
   ],
   "source": [
    "plt.plot(ys)"
   ]
  },
  {
   "cell_type": "code",
   "execution_count": 103,
   "metadata": {},
   "outputs": [
    {
     "data": {
      "text/plain": [
       "[<matplotlib.lines.Line2D at 0x1e0b9d05b20>]"
      ]
     },
     "execution_count": 103,
     "metadata": {},
     "output_type": "execute_result"
    },
    {
     "data": {
      "image/png": "[encoded data removed]",
      "text/plain": [
       "<Figure size 432x288 with 1 Axes>"
      ]
     },
     "metadata": {
      "needs_background": "light"
     },
     "output_type": "display_data"
    }
   ],
   "source": [
    "plt.plot(xs)"
   ]
  },
  {
   "cell_type": "code",
   "execution_count": 106,
   "metadata": {
    "scrolled": true
   },
   "outputs": [
    {
     "data": {
      "text/plain": [
       "array([3.16712418e-05, 6.77266129e-05, 1.40261038e-04, 2.81354614e-04,\n",
       "       5.46729162e-04, 1.02934362e-03, 1.87799734e-03, 3.32094274e-03,\n",
       "       5.69318233e-03, 9.46418239e-03, 1.52603899e-02, 2.38747055e-02,\n",
       "       3.62537504e-02, 5.34543293e-02, 7.65637255e-02, 1.06584631e-01,\n",
       "       1.44293946e-01, 1.90093710e-01, 2.43879502e-01, 3.04954246e-01,\n",
       "       3.72011466e-01, 4.43201503e-01, 5.16278838e-01, 5.88811897e-01,\n",
       "       6.58423092e-01, 7.23020039e-01, 7.80980881e-01, 8.31266888e-01,\n",
       "       8.73451046e-01, 9.07667999e-01, 9.34504321e-01, 9.54855723e-01,\n",
       "       9.69778694e-01, 9.80359186e-01, 9.87612658e-01, 9.92420781e-01,\n",
       "       9.95502510e-01, 9.97412376e-01, 9.98556837e-01, 9.99219950e-01,\n",
       "       9.99591454e-01, 9.99792700e-01, 9.99898111e-01, 9.99951497e-01,\n",
       "       9.99977640e-01, 9.99990019e-01, 9.99995686e-01, 9.99998195e-01,\n",
       "       9.99999269e-01, 9.99999713e-01])"
      ]
     },
     "execution_count": 106,
     "metadata": {},
     "output_type": "execute_result"
    }
   ],
   "source": [
    "n=np.linspace(-4,5)\n",
    "y=norm(0,1).cdf(n)\n",
    "y"
   ]
  },
  {
   "cell_type": "code",
   "execution_count": 107,
   "metadata": {},
   "outputs": [
    {
     "data": {
      "text/plain": [
       "[<matplotlib.lines.Line2D at 0x1e0b9dbc520>]"
      ]
     },
     "execution_count": 107,
     "metadata": {},
     "output_type": "execute_result"
    },
    {
     "data": {
      "image/png": "[encoded data removed]",
      "text/plain": [
       "<Figure size 432x288 with 1 Axes>"
      ]
     },
     "metadata": {
      "needs_background": "light"
     },
     "output_type": "display_data"
    }
   ],
   "source": [
    "plt.plot(y)"
   ]
  },
  {
   "cell_type": "code",
   "execution_count": 111,
   "metadata": {},
   "outputs": [
    {
     "data": {
      "text/plain": [
       "array([9.86587645e-10, 6.99670582e-09, 4.47271290e-08, 2.57808992e-07,\n",
       "       1.34037266e-06, 6.28824359e-06, 2.66327324e-05, 1.01889230e-04,\n",
       "       3.52335764e-04, 1.10216877e-03, 3.12191567e-03, 8.01650461e-03,\n",
       "       1.86880182e-02, 3.96209277e-02, 7.65637255e-02, 1.35221964e-01,\n",
       "       2.19019119e-01, 3.26723189e-01, 4.51271725e-01, 5.80855146e-01,\n",
       "       7.02156246e-01, 8.04317031e-01, 8.81728827e-01, 9.34504321e-01,\n",
       "       9.66875465e-01, 9.84739610e-01, 9.93609177e-01, 9.97571187e-01,\n",
       "       9.99163463e-01, 9.99739177e-01, 9.99926451e-01, 9.99981257e-01,\n",
       "       9.99995686e-01, 9.99999104e-01, 9.99999832e-01, 9.99999972e-01,\n",
       "       9.99999996e-01, 9.99999999e-01, 1.00000000e+00, 1.00000000e+00,\n",
       "       1.00000000e+00, 1.00000000e+00, 1.00000000e+00, 1.00000000e+00,\n",
       "       1.00000000e+00, 1.00000000e+00, 1.00000000e+00, 1.00000000e+00,\n",
       "       1.00000000e+00, 1.00000000e+00])"
      ]
     },
     "execution_count": 111,
     "metadata": {},
     "output_type": "execute_result"
    }
   ],
   "source": [
    "m=np.linspace(-6,10)\n",
    "z=norm(0,1).cdf(m)\n",
    "z"
   ]
  },
  {
   "cell_type": "code",
   "execution_count": 112,
   "metadata": {},
   "outputs": [
    {
     "data": {
      "text/plain": [
       "[<matplotlib.lines.Line2D at 0x1e0b9e0ee20>]"
      ]
     },
     "execution_count": 112,
     "metadata": {},
     "output_type": "execute_result"
    },
    {
     "data": {
      "image/png": "[encoded data removed]",
      "text/plain": [
       "<Figure size 432x288 with 1 Axes>"
      ]
     },
     "metadata": {
      "needs_background": "light"
     },
     "output_type": "display_data"
    }
   ],
   "source": [
    "plt.plot(z)"
   ]
  },
  {
   "cell_type": "code",
   "execution_count": 113,
   "metadata": {
    "scrolled": true
   },
   "outputs": [
    {
     "data": {
      "text/plain": [
       "array([0.00443185, 0.00635135, 0.00896675, 0.01247075, 0.01708592,\n",
       "       0.02306069, 0.03066159, 0.04016108, 0.05182083, 0.0658706 ,\n",
       "       0.08248352, 0.10174921, 0.12364689, 0.1480211 , 0.17456307,\n",
       "       0.20280069, 0.2320998 , 0.26167871, 0.29063661, 0.31799518,\n",
       "       0.34275126, 0.36393672, 0.38068082, 0.39226937, 0.39819528,\n",
       "       0.39819528, 0.39226937, 0.38068082, 0.36393672, 0.34275126,\n",
       "       0.31799518, 0.29063661, 0.26167871, 0.2320998 , 0.20280069,\n",
       "       0.17456307, 0.1480211 , 0.12364689, 0.10174921, 0.08248352,\n",
       "       0.0658706 , 0.05182083, 0.04016108, 0.03066159, 0.02306069,\n",
       "       0.01708592, 0.01247075, 0.00896675, 0.00635135, 0.00443185])"
      ]
     },
     "execution_count": 113,
     "metadata": {},
     "output_type": "execute_result"
    }
   ],
   "source": [
    "xs=np.linspace(-3,3)\n",
    "ys=norm(0,1).pdf(xs)\n",
    "ys"
   ]
  },
  {
   "cell_type": "code",
   "execution_count": 114,
   "metadata": {},
   "outputs": [
    {
     "data": {
      "text/plain": [
       "[<matplotlib.lines.Line2D at 0x1e0b9e6d550>]"
      ]
     },
     "execution_count": 114,
     "metadata": {},
     "output_type": "execute_result"
    },
    {
     "data": {
      "image/png": "[encoded data removed]",
      "text/plain": [
       "<Figure size 432x288 with 1 Axes>"
      ]
     },
     "metadata": {
      "needs_background": "light"
     },
     "output_type": "display_data"
    }
   ],
   "source": [
    "plt.plot(ys)"
   ]
  },
  {
   "cell_type": "code",
   "execution_count": 117,
   "metadata": {},
   "outputs": [
    {
     "ename": "NameError",
     "evalue": "name 'Pdf' is not defined",
     "output_type": "error",
     "traceback": [
      "\u001b[1;31m---------------------------------------------------------------------------\u001b[0m",
      "\u001b[1;31mNameError\u001b[0m                                 Traceback (most recent call last)",
      "\u001b[1;32m<ipython-input-117-8d310544924b>\u001b[0m in \u001b[0;36m<module>\u001b[1;34m\u001b[0m\n\u001b[0;32m      1\u001b[0m \u001b[0mxs\u001b[0m\u001b[1;33m=\u001b[0m\u001b[0mnp\u001b[0m\u001b[1;33m.\u001b[0m\u001b[0mlinspace\u001b[0m\u001b[1;33m(\u001b[0m\u001b[1;33m-\u001b[0m\u001b[1;36m3\u001b[0m\u001b[1;33m,\u001b[0m\u001b[1;36m3\u001b[0m\u001b[1;33m)\u001b[0m\u001b[1;33m\u001b[0m\u001b[1;33m\u001b[0m\u001b[0m\n\u001b[1;32m----> 2\u001b[1;33m \u001b[0mys\u001b[0m\u001b[1;33m=\u001b[0m\u001b[0mPdf\u001b[0m\u001b[1;33m(\u001b[0m\u001b[0mxs\u001b[0m\u001b[1;33m)\u001b[0m\u001b[1;33m\u001b[0m\u001b[1;33m\u001b[0m\u001b[0m\n\u001b[0m\u001b[0;32m      3\u001b[0m \u001b[0mys\u001b[0m\u001b[1;33m\u001b[0m\u001b[1;33m\u001b[0m\u001b[0m\n",
      "\u001b[1;31mNameError\u001b[0m: name 'Pdf' is not defined"
     ]
    }
   ],
   "source": [
    "xs=np.linspace(-3,3)\n",
    "ys=Pdf(xs)\n",
    "ys"
   ]
  },
  {
   "cell_type": "code",
   "execution_count": 118,
   "metadata": {},
   "outputs": [
    {
     "name": "stdout",
     "output_type": "stream",
     "text": [
      "Object `Pdf` not found.\n"
     ]
    }
   ],
   "source": [
    "?Pdf"
   ]
  },
  {
   "cell_type": "code",
   "execution_count": null,
   "metadata": {},
   "outputs": [],
   "source": [
    "#!pip install pdf"
   ]
  },
  {
   "cell_type": "markdown",
   "metadata": {},
   "source": [
    "# kernal density plot/"
   ]
  },
  {
   "cell_type": "code",
   "execution_count": 5,
   "metadata": {},
   "outputs": [],
   "source": [
    "import seaborn as sns\n",
    "import numpy as np\n",
    "import matplotlib.pyplot as plt\n"
   ]
  },
  {
   "cell_type": "code",
   "execution_count": 6,
   "metadata": {},
   "outputs": [
    {
     "data": {
      "text/plain": [
       "array([ 1.13306341e+00,  2.00359095e+00,  1.94049899e+00,  6.11672256e-01,\n",
       "        3.29328768e-01, -5.68996009e-01,  3.04293643e-01,  8.11237878e-02,\n",
       "       -1.03915742e+00, -3.14871064e+00,  1.37605855e+00, -8.90615082e-01,\n",
       "        9.31229455e-01,  8.59582040e-02,  4.91198180e-01, -6.34306642e-01,\n",
       "        1.60100390e-01,  9.07381317e-01, -1.25438632e+00,  1.54109087e+00,\n",
       "        6.52196043e-01,  1.09957344e+00, -1.29748878e-01, -3.49648468e-01,\n",
       "        8.21732876e-01,  1.49384669e-01,  1.99650140e+00, -8.50844248e-02,\n",
       "       -2.94392464e-01, -8.75848848e-01,  1.47241444e+00, -1.04032497e+00,\n",
       "        3.69090477e-01, -1.46109452e-01,  1.17310662e+00, -1.47222771e+00,\n",
       "        1.72821183e-01, -2.31143407e-01, -1.56669470e+00,  1.49869966e-01,\n",
       "        9.43652074e-01,  1.47022038e+00, -7.60892630e-01, -1.58122084e+00,\n",
       "       -5.88535375e-01, -3.08966477e-01, -2.44248391e-01,  1.99549504e+00,\n",
       "        4.01807397e-01,  4.33372755e-02,  4.07244185e-01, -9.31278471e-01,\n",
       "       -1.86245536e+00, -1.22235464e+00,  1.20274335e-01,  1.11082225e+00,\n",
       "       -1.28214549e+00,  9.05001903e-01, -1.23263115e+00,  1.17572962e-01,\n",
       "        1.72392538e+00,  6.52876248e-01, -2.33966211e-01, -8.22849296e-01,\n",
       "        1.76879276e+00, -3.73305280e-01, -2.42642333e-01,  1.57351346e-01,\n",
       "        4.50360480e-02,  2.01138797e+00, -2.01943257e+00,  1.15594185e+00,\n",
       "       -6.22446905e-01,  1.31078930e+00, -3.60922815e-01, -1.15284302e-01,\n",
       "        7.49874129e-01,  9.56767122e-01, -8.24450858e-01,  5.66620342e-01,\n",
       "       -2.33714311e-01,  6.28997675e-01,  2.94593358e-01, -3.61343641e-01,\n",
       "        2.92225220e-01,  1.00062037e-01,  2.94050891e-01,  9.61281966e-01,\n",
       "        7.64193922e-01, -4.84147290e-01, -7.59810766e-01,  4.78021627e-01,\n",
       "       -7.68462196e-01,  4.58536251e-01, -7.84453701e-02, -1.54384527e-01,\n",
       "        1.56281080e-01,  2.06351067e+00, -2.86725137e-01, -1.39477159e+00,\n",
       "        8.74549355e-01,  1.15374752e+00,  1.10286276e+00,  1.20989278e+00,\n",
       "        2.25980413e-01,  6.20736128e-01,  4.09821252e-01, -2.85550913e-01,\n",
       "       -9.73430892e-01,  9.70553286e-01,  1.73072502e-01, -8.12195406e-01,\n",
       "        4.29093539e-01,  9.97636848e-02, -1.44407228e-01, -7.65779098e-01,\n",
       "        7.94621551e-01, -4.36599655e-01, -3.68675798e-01, -3.00792377e-01,\n",
       "        1.36106821e+00, -7.30914524e-01, -2.36227742e-01,  7.67992339e-01,\n",
       "        6.46587603e-01, -4.27646015e-01,  9.42112076e-01,  1.71503093e-01,\n",
       "       -1.00660641e+00,  1.46561270e-01,  1.57759175e+00,  1.29059075e-01,\n",
       "        1.54264050e+00,  3.06841191e-01, -2.71682958e-01,  1.29031899e+00,\n",
       "        1.45476358e+00,  6.47099706e-01, -9.42643621e-01, -6.86344581e-01,\n",
       "       -3.86195261e-01,  7.73721174e-01,  1.99079598e-01,  1.33988972e-02,\n",
       "       -6.81414141e-01,  5.05882167e-01, -1.02981927e+00,  8.47852189e-01,\n",
       "        6.09212915e-01, -8.22157355e-03, -8.81640103e-01,  1.94080719e-01,\n",
       "       -8.83431963e-01, -6.15968586e-01,  7.07792334e-01,  7.05819295e-01,\n",
       "       -3.93949541e-01, -4.15021585e-02,  1.28322810e+00,  1.49279874e+00,\n",
       "        5.47201505e-01,  2.69152984e-01, -5.68818487e-01,  7.52406228e-01,\n",
       "        2.55840069e+00, -6.03872963e-01, -1.13813374e+00, -1.58625727e-01,\n",
       "        3.12813928e-01,  3.52584757e-01, -3.31651481e-01,  1.82972524e+00,\n",
       "        8.71022942e-01,  5.47913385e-01, -7.40088667e-01,  1.43517288e+00,\n",
       "       -1.10728379e+00, -3.45038521e-01, -3.09303239e-01, -4.43806862e-01,\n",
       "        2.41681287e-01,  5.09120225e-01, -7.74228952e-01, -1.90807032e-01,\n",
       "        1.12763045e+00,  2.47388120e+00,  1.24018411e+00,  2.31514166e+00,\n",
       "       -1.02118170e+00,  2.93791387e-01,  2.40080083e+00, -8.72304811e-01,\n",
       "       -2.65888167e-01, -7.88345251e-01,  1.40742101e+00,  8.33662448e-01,\n",
       "        1.23492277e+00, -5.42891258e-01, -1.45730945e+00,  1.31483063e+00,\n",
       "       -4.16801620e-01, -6.76262490e-02,  3.35163238e-01,  3.32268748e-01,\n",
       "       -1.04272965e+00,  1.84568422e-01, -6.33268924e-02, -1.10622799e+00,\n",
       "       -6.89957056e-01, -3.78588458e-01, -1.27423025e+00,  1.57074173e+00,\n",
       "       -1.41238758e+00, -2.95450398e-01,  1.19155008e+00, -8.17360224e-01,\n",
       "        4.97810955e-02, -9.49821481e-01, -1.86522559e+00, -2.49378617e-01,\n",
       "       -1.21831680e+00, -2.35250610e-01,  1.75053866e+00, -1.49513455e+00,\n",
       "        7.31997984e-01,  1.53803669e+00,  1.92712771e-01, -1.17566548e-01,\n",
       "        5.04210245e-02,  2.17596570e+00, -2.20141903e+00, -1.62269440e+00,\n",
       "        1.55352347e+00, -7.03461788e-01, -4.03778920e-01, -1.12014859e-01,\n",
       "        1.87378924e+00,  3.43524300e-01, -2.08595348e+00, -2.07846930e+00,\n",
       "       -1.03627796e-01,  1.81261384e-01,  9.95775524e-01,  7.69754202e-01,\n",
       "        8.80624841e-01,  1.24889657e+00, -6.52997105e-01,  1.77200199e+00,\n",
       "        7.75740028e-01,  1.73317452e+00, -1.33490528e+00, -1.05862017e+00,\n",
       "       -6.67016353e-01,  2.03135638e+00,  2.72478698e-01, -2.09212660e-01,\n",
       "        1.08787038e+00,  6.35579303e-01, -1.35676719e-01,  4.98737445e-01,\n",
       "       -1.41453791e-01,  1.46792893e-01, -7.67505046e-01,  7.36547377e-01,\n",
       "        3.32537586e-01,  4.87014492e-01,  3.05472304e-01,  4.06178059e-01,\n",
       "       -1.96029611e+00,  6.06873284e-01, -3.84350788e-01, -1.51630151e+00,\n",
       "       -8.07387491e-01,  5.22809617e-01,  4.08884563e-01,  1.02489690e+00,\n",
       "        2.85530859e-01, -1.37215631e-01,  1.46895498e-01,  2.44344786e+00,\n",
       "        2.62042088e-01,  1.27305962e-01,  1.43029694e+00, -5.95396965e-01,\n",
       "       -9.76182470e-01, -2.10939875e+00,  2.62101679e+00,  1.62242806e+00,\n",
       "        8.61770851e-01, -4.51127996e-01, -1.03849922e-01, -2.95758779e-01,\n",
       "        1.92731527e-01, -4.93102437e-01, -2.88299303e+00, -1.47805368e-01,\n",
       "        1.66629128e-01, -1.00188982e+00,  5.57826167e-01, -1.24935698e+00,\n",
       "       -1.37564289e+00, -4.29597843e-01,  2.42344822e+00, -1.30951645e+00,\n",
       "        5.41207791e-01, -8.77806062e-01,  2.46206753e-01,  5.95911205e-01,\n",
       "       -2.10718333e+00, -3.68126194e-02,  7.59910388e-02,  1.07239506e+00,\n",
       "       -1.20652688e+00, -4.49475754e-01,  7.13278334e-01,  7.48907589e-01,\n",
       "        9.44994738e-01,  3.58238719e-02, -6.95839857e-01,  8.31266602e-01,\n",
       "        1.25827433e+00, -2.12075860e-01,  9.31888878e-01,  7.22893859e-01,\n",
       "       -5.97517793e-01, -1.38543567e-01,  1.80369226e+00, -1.10672399e+00,\n",
       "        7.45594041e-01, -4.94490536e-01, -7.80744004e-01,  1.80701587e+00,\n",
       "       -2.29681137e-01, -3.75868068e-01,  2.98200952e-01,  8.35725497e-02,\n",
       "        7.21065808e-01, -1.87963767e+00,  5.61848708e-01, -1.29519923e+00,\n",
       "        4.76175184e-01,  4.99791399e-02,  1.15527429e+00, -1.94537315e+00,\n",
       "       -4.35248185e-01,  6.13103194e-01,  7.84883497e-01, -4.86999317e-01,\n",
       "       -1.26417830e+00, -1.78875734e+00, -6.51831149e-01,  3.58996387e-01,\n",
       "       -1.33006676e-01, -2.82967165e-01,  6.06256154e-02,  2.17485959e+00,\n",
       "        1.28537405e+00, -1.74557390e-01, -4.17590843e-01,  6.45195779e-01,\n",
       "        2.62407235e-01, -2.03924257e+00,  4.35811228e-01, -4.19205154e-01,\n",
       "       -2.12069630e+00,  1.58670465e-01,  8.25099304e-01, -5.16260589e-01,\n",
       "       -5.89455898e-01,  8.32132040e-01,  1.36163041e+00,  5.84463998e-01,\n",
       "       -3.30352197e-01,  8.51483343e-01, -3.28270825e-01,  7.49812899e-01,\n",
       "        7.48207321e-01, -1.52924294e+00,  1.04827314e+00,  1.24930762e+00,\n",
       "       -5.36285265e-01,  7.74806733e-01,  6.30772288e-01,  6.03327265e-01,\n",
       "        1.71498084e-01,  1.40052687e+00, -5.32450790e-01, -1.37063216e+00,\n",
       "        1.18731965e+00, -1.48724721e+00,  4.18978843e-01,  2.57676529e-01,\n",
       "        1.66721076e+00, -7.91628158e-01,  1.69100685e+00, -1.23514215e+00,\n",
       "       -1.04002916e+00, -8.00983346e-01,  9.86263625e-01,  1.21293671e+00,\n",
       "       -2.77374871e-01, -1.43081408e+00, -4.13932059e-01,  1.29893829e+00,\n",
       "        1.50503679e+00,  7.16180598e-01, -1.65768059e+00, -1.39716788e+00,\n",
       "        1.30009573e-01, -1.28378756e+00, -7.72736258e-01,  4.77566152e-01,\n",
       "        1.08465953e+00, -1.23345686e+00,  1.52119486e-01, -4.63315661e-01,\n",
       "        3.39373486e-01,  2.75505754e-02,  3.97873042e-01, -2.30402200e+00,\n",
       "       -7.69113935e-02,  1.48331684e+00, -8.06734316e-01,  3.53266852e-01,\n",
       "       -1.56824615e-01, -1.03141031e+00,  7.20211369e-04, -1.37437105e+00,\n",
       "        4.41268336e-01,  3.11860667e-02,  3.02260535e-01, -3.75931017e-01,\n",
       "       -2.14685751e-01, -1.26966897e+00,  1.53871210e-01, -9.04513556e-01,\n",
       "       -2.96146206e-01, -6.87299582e-01,  8.32021738e-01, -3.78078013e-01,\n",
       "       -6.73319403e-01,  4.05350011e-01,  8.25245238e-01,  2.11123187e-01,\n",
       "        7.39205710e-02,  5.04531116e-01, -1.23168300e+00, -1.32457722e+00,\n",
       "       -1.32050995e+00, -3.06618989e-01, -3.17113738e-01,  1.10032466e+00,\n",
       "       -2.26931078e-01, -8.40993137e-01,  8.75016865e-01, -3.81614427e-01,\n",
       "       -1.36780031e+00, -1.74356116e+00, -6.31320572e-01,  7.86741892e-02,\n",
       "       -5.94489246e-01,  1.56061333e+00,  5.94232667e-01, -1.94218396e+00,\n",
       "       -1.52492946e+00,  1.71061678e-02,  1.47676275e+00, -8.75829041e-01,\n",
       "        5.04803653e-01, -8.85572898e-02, -1.65811395e-01,  1.01259245e-01,\n",
       "       -1.16381257e+00, -1.55713365e+00,  1.93281952e+00, -6.47846486e-01,\n",
       "        2.34126398e-01,  3.33020369e-02,  1.60025078e+00,  8.26310738e-01,\n",
       "        4.41466353e-01, -6.31026873e-01,  9.85391353e-01,  1.68699630e+00,\n",
       "        1.03177664e+00, -1.69074279e-01, -1.88962576e+00, -6.58492000e-02,\n",
       "        8.62018561e-01, -1.09538378e+00,  1.13790185e+00,  4.08711676e-01,\n",
       "       -1.57015311e+00,  1.41298288e+00, -2.83524507e+00, -6.49221347e-01,\n",
       "        1.16362467e+00, -6.78187385e-01,  6.99751247e-01,  3.62032358e-03,\n",
       "       -4.70467741e-01, -2.80163990e+00,  1.44834345e+00, -1.86749191e+00,\n",
       "       -6.50278293e-01,  3.86069547e-02, -1.31795517e+00, -2.81274104e-01,\n",
       "        3.07378007e-01, -2.40651168e+00, -1.23702658e+00,  1.13545346e+00,\n",
       "        5.42231615e-01,  6.06675422e-01,  1.25159977e+00,  1.35983651e-01,\n",
       "       -1.01763526e-01,  7.15997723e-01, -1.57646092e+00,  1.28270017e+00,\n",
       "       -4.91199211e-01,  2.52202925e-01, -7.79808886e-01, -1.44872839e+00,\n",
       "       -1.24558871e-01,  8.44211002e-01,  2.27132280e-01, -8.97891872e-01,\n",
       "       -2.92802414e-01, -5.79766859e-01, -1.26194363e-01,  1.17389098e-01,\n",
       "       -1.09809829e+00,  1.31062980e-01, -2.35455890e-01, -1.44692966e+00,\n",
       "       -6.98974800e-01,  9.33286534e-02,  5.89005928e-01,  3.40909475e-01,\n",
       "       -4.83214046e-01,  6.15609445e-01, -4.14849026e-01, -5.55528676e-02,\n",
       "       -3.59269852e-01, -6.76065675e-01, -4.99533557e-01, -3.78288576e-01,\n",
       "        1.70765192e+00, -1.79200046e+00,  3.16000232e-01, -4.14334287e-01,\n",
       "        6.51096099e-01, -6.09200189e-01,  3.08051664e-01,  9.01956405e-01,\n",
       "       -3.98616573e-01, -1.15498081e+00, -2.10917241e+00, -2.00859274e+00,\n",
       "       -1.65936191e+00, -4.56586884e-01, -7.22930954e-01,  3.14795446e-01,\n",
       "       -5.75063262e-01,  1.13672524e+00,  1.20100215e+00,  6.92880107e-01,\n",
       "       -5.20600542e-02, -2.35216780e+00, -8.49665833e-02, -5.91532694e-01,\n",
       "       -2.14324486e-01, -1.49486321e+00,  1.64313345e+00, -4.34940145e-01,\n",
       "        8.57316488e-01, -4.57986446e-01,  5.20787542e-01,  1.95955901e+00,\n",
       "       -1.69782650e+00,  1.27505270e+00,  1.13727625e+00, -2.82666556e-01,\n",
       "       -3.38352236e-01, -1.81046546e-01,  8.52970542e-01, -5.73896330e-01,\n",
       "       -5.43157642e-01,  3.53090561e-01, -8.26418500e-01, -2.77523300e+00,\n",
       "       -1.95925204e+00,  5.34345297e-01, -6.16727162e-01, -3.23247813e-01,\n",
       "       -2.65318679e-01, -9.45131877e-01, -8.62482698e-01, -1.69622412e-01,\n",
       "       -1.69228914e-01, -1.44302533e+00,  9.94399454e-01,  1.95511608e-01,\n",
       "        6.22534011e-01,  5.17237610e-01,  8.68078449e-02,  1.21216408e+00,\n",
       "       -5.24023958e-01, -1.23630661e+00, -1.13762600e+00, -6.79235991e-01,\n",
       "        1.75193574e+00,  1.83532353e+00, -6.72179627e-01, -3.71282893e-01,\n",
       "       -1.45367963e-01,  2.44744958e+00,  9.03996007e-01, -9.77820595e-01,\n",
       "        1.36779161e+00, -8.10081252e-01,  1.27131747e+00, -5.36105822e-01,\n",
       "       -6.20117591e-03,  8.46199573e-01,  3.20982473e-01,  6.14797427e-01,\n",
       "       -8.37757523e-01, -1.79419903e-01, -1.10238432e+00,  3.31268340e-01,\n",
       "       -2.92453325e-01,  1.41076791e+00,  1.19052495e+00, -1.95144213e-01,\n",
       "        1.23193109e-02, -3.27034425e-01, -8.78263692e-01, -1.10197505e-01,\n",
       "       -1.17427362e+00, -6.52798130e-01,  1.45804852e+00, -5.03278638e-01,\n",
       "        4.42707793e-01, -1.53924972e+00, -6.09589389e-01, -6.81139663e-01,\n",
       "       -1.54972179e-01, -1.63276443e+00,  4.84302322e-01,  3.81425241e-01,\n",
       "        3.42674559e-01,  1.74895616e+00,  1.33889125e+00, -4.99058827e-01,\n",
       "       -6.70357005e-01, -4.41853594e-01,  9.19616038e-01, -2.51256907e-01,\n",
       "       -3.75018485e-01,  7.68920311e-02,  4.75623258e-02,  2.28644132e+00,\n",
       "       -1.76766349e-01,  1.39602125e-01, -2.69337369e-01, -1.44477928e+00,\n",
       "       -8.66064684e-02,  2.69602962e-01,  7.18597824e-01,  3.97859017e-01,\n",
       "       -4.01234375e-01,  4.48761049e-01, -6.73332252e-01,  1.14472819e+00,\n",
       "        1.27818244e+00,  1.29589808e+00,  5.91500068e-01,  1.41299668e+00,\n",
       "        6.60681851e-01,  8.58823873e-01, -1.04335265e+00, -1.41258224e+00,\n",
       "       -1.15271645e+00,  2.33433353e-01, -6.50165574e-01, -9.64319247e-01,\n",
       "        1.71117213e+00,  4.87479414e-01,  6.20839970e-01, -2.25654425e+00,\n",
       "        1.77075300e+00, -9.26454322e-01, -1.56904594e+00, -1.82800674e-02,\n",
       "       -1.15610801e+00, -1.07101210e+00, -1.40574857e-01,  4.99808105e-01,\n",
       "        1.37693399e+00, -3.00861565e-01,  7.02537307e-01,  1.08252377e+00,\n",
       "       -5.76210463e-01,  6.23193255e-01,  8.54139821e-01,  6.64333260e-01,\n",
       "        2.61108426e-01, -1.47289464e+00,  4.20649402e-01, -1.17194200e+00,\n",
       "       -4.62890754e-01, -2.19727445e-01,  5.23133689e-01,  3.21381560e-01,\n",
       "        1.24945895e+00, -4.62046923e-02,  9.10484723e-01, -1.06956334e+00,\n",
       "        1.01182151e+00, -9.71349663e-01,  4.75323765e-01, -2.74323495e-01,\n",
       "        4.52449773e-02, -1.18933267e-01,  9.89921738e-01, -1.21214067e+00,\n",
       "       -1.56966938e+00,  5.82046111e-01,  4.93967209e-01, -1.04222457e+00,\n",
       "       -3.71310324e-01, -1.61027828e+00, -3.73272255e-01,  5.26691360e-01,\n",
       "       -1.16984292e+00,  1.77506081e+00,  3.84330878e-01,  5.47280209e-01,\n",
       "        8.95001220e-01, -7.25758318e-01, -8.86647581e-01,  4.90662807e-01,\n",
       "        1.02253315e+00,  2.05769710e+00,  1.88463018e+00,  2.83044957e-01,\n",
       "        3.81096115e-02, -1.30387011e+00,  1.74705487e+00,  1.04160112e+00,\n",
       "        6.33286761e-01,  7.84499944e-01,  6.45264001e-01, -1.12296687e-01,\n",
       "        9.97678119e-01, -1.60663136e+00,  1.55497054e+00,  4.17619485e-02,\n",
       "        3.30891783e-02, -4.71779059e-02,  1.11013244e+00, -4.90866366e-01,\n",
       "        1.74318996e+00,  7.08816155e-01, -8.18671858e-01,  2.51302633e-01,\n",
       "       -8.99367118e-01,  7.83410874e-01,  1.77397668e-02,  6.52639833e-01,\n",
       "       -6.53923379e-01,  2.77425475e+00,  7.17681443e-01, -5.91167026e-02,\n",
       "        5.99754732e-01,  1.18445238e+00, -1.14881136e-01, -3.77018712e-02,\n",
       "        1.10769880e+00, -2.93055139e-01,  1.73907296e+00, -1.93018731e-01,\n",
       "        5.68394005e-01,  2.70905444e-01, -1.29573788e+00, -3.56138724e-01,\n",
       "        7.89262406e-01,  1.04340304e-06,  6.02581821e-01, -1.73062206e-01,\n",
       "       -5.40011050e-01,  1.25106321e+00, -2.92191305e-01,  8.77503360e-01,\n",
       "       -1.43029668e+00, -5.63661807e-02,  3.19051354e-01, -3.22609531e-01,\n",
       "        3.17990031e-01, -2.12697480e-01, -6.84776677e-01, -2.80284189e+00,\n",
       "        9.00261250e-01, -1.49681558e+00,  1.95647139e+00, -2.24296341e+00,\n",
       "        3.29761584e-01,  1.12450870e-01, -9.13163513e-01, -1.24010019e+00,\n",
       "        3.65123957e-01,  4.57520048e-01, -5.67720876e-01,  9.58889606e-01,\n",
       "       -7.16047622e-02,  5.63641820e-01, -7.48572397e-01,  1.53876272e+00,\n",
       "        3.45357010e-01, -1.74408387e+00,  1.93850946e+00,  5.63088862e-01,\n",
       "        2.86753056e+00,  1.92872155e-01, -1.32654078e-01, -1.35320639e+00,\n",
       "        1.45112253e+00,  2.64051449e-01,  1.65401415e+00, -4.99217216e-01,\n",
       "        1.75763549e+00, -5.92260574e-01,  7.44859822e-01,  1.55178833e-01,\n",
       "       -1.48539097e+00, -1.05776915e+00, -2.38338067e+00,  1.38729742e+00,\n",
       "       -5.80518985e-01, -7.61450444e-01, -1.66873544e+00, -7.33410953e-01,\n",
       "        2.99423045e-01, -3.62855442e-01,  4.76533776e-01, -9.36480613e-01,\n",
       "       -4.98865037e-01,  8.99788233e-01,  1.28831075e+00,  1.77944451e-01,\n",
       "       -3.02680716e-01, -2.20314263e+00, -1.60614749e+00, -2.61592770e-01,\n",
       "        1.26876276e+00, -4.47654324e-01, -8.37123276e-01, -1.14695119e+00,\n",
       "        9.43255056e-01, -2.22577091e+00, -1.80142556e+00,  8.67323463e-01,\n",
       "       -3.62950862e-01,  1.76028252e-01, -5.75210773e-01, -1.06229685e-01,\n",
       "        8.14243177e-01, -1.14232146e-01, -8.50782138e-01,  8.86903515e-01,\n",
       "        1.04519908e+00,  6.16265785e-01, -1.60557468e+00,  2.47929769e-01,\n",
       "        1.15308377e-01,  3.95813768e-02,  1.31597096e+00,  1.23191883e+00,\n",
       "        4.66771876e-01,  1.41057588e-01, -1.13959030e-01,  1.44843844e-01,\n",
       "        4.62915881e-02,  1.68009388e+00,  1.51284381e+00, -1.95759707e+00,\n",
       "       -1.77054652e+00, -2.10799308e+00,  1.30671005e-01, -1.60891370e+00,\n",
       "       -7.66560222e-01,  3.91066575e-01, -3.20342095e-01, -5.57850381e-01,\n",
       "        6.03631723e-01,  1.42421227e+00,  6.39899989e-01, -1.34296050e+00,\n",
       "       -3.78658615e-02, -1.51570430e+00,  7.46193833e-01,  9.17796618e-01,\n",
       "       -9.97907137e-01,  1.54981014e+00, -7.05649767e-01,  1.54847684e+00,\n",
       "        6.31142206e-01, -1.68026317e+00,  8.93132906e-02, -3.07259405e-01,\n",
       "       -9.28877159e-01, -1.43480711e+00,  1.04800026e+00, -1.54956866e+00,\n",
       "        3.52969264e-01,  9.03702861e-01, -7.16470273e-01, -2.56608410e+00,\n",
       "        1.33332210e+00, -2.98022496e-01,  9.13826430e-01, -8.81347664e-02,\n",
       "       -1.03069558e+00, -7.13650058e-02,  2.52138249e+00,  2.37985851e+00,\n",
       "        6.46163636e-01,  9.00357848e-02,  4.72084210e-01,  1.85524122e+00,\n",
       "       -1.91180920e+00, -9.27110886e-01,  1.42547106e-01, -3.57919012e-01,\n",
       "        1.20300255e+00, -4.31096187e-01,  1.47994529e-01, -6.95399466e-02,\n",
       "        2.69950144e-01, -1.17841795e+00,  1.67085281e+00, -1.17496021e+00,\n",
       "       -1.39127889e-01, -1.02359774e+00, -3.75999311e-01,  1.27422484e+00,\n",
       "       -7.65532252e-01, -6.75199654e-01,  4.70114955e-01, -5.96451602e-01,\n",
       "       -3.51461189e-01,  5.77049935e-01,  5.36059761e-02, -6.83953677e-02,\n",
       "       -6.99437900e-01,  4.52440538e-01,  3.65288397e-01, -1.20495616e-01,\n",
       "        5.10435921e-01,  2.97322167e-01, -7.45984806e-02, -8.31802922e-01,\n",
       "        1.80888294e-01, -4.68274322e-01, -5.16330875e-01, -1.31767739e+00,\n",
       "        1.50962411e+00, -1.52311002e+00,  1.90543003e-01, -1.56713595e+00,\n",
       "        4.40912860e-01,  2.04269627e+00, -5.88855790e-02, -4.94841223e-01,\n",
       "       -4.09109033e-01,  1.88285916e+00, -1.79370841e-01, -1.37426865e-02,\n",
       "       -6.24766898e-01, -1.16514174e-01,  2.16234774e-01, -3.71568271e-01,\n",
       "       -6.21457569e-01,  3.56409204e-01,  1.28306326e+00, -1.94194080e+00,\n",
       "       -1.62016074e-01, -1.66955313e+00, -1.39389598e+00,  4.31934644e-02,\n",
       "       -1.02537569e-01, -3.18161091e-01, -8.03046137e-01,  1.00256047e+00,\n",
       "       -4.28071361e-01, -4.91155178e-01, -2.19798984e+00,  5.14796016e-01])"
      ]
     },
     "execution_count": 6,
     "metadata": {},
     "output_type": "execute_result"
    }
   ],
   "source": [
    "sample=np.random.normal(size=1000)\n",
    "sample"
   ]
  },
  {
   "cell_type": "code",
   "execution_count": 9,
   "metadata": {},
   "outputs": [
    {
     "data": {
      "text/plain": [
       "array([0.0013499 , 0.00200388, 0.00293369, 0.00423604, 0.00603307,\n",
       "       0.00847582, 0.01174695, 0.01606229, 0.02167053, 0.02885073,\n",
       "       0.03790684, 0.0491592 , 0.06293263, 0.07954137, 0.0992714 ,\n",
       "       0.12236094, 0.1489804 , 0.17921329, 0.21303974, 0.25032436,\n",
       "       0.29080984, 0.33411757, 0.37975571, 0.42713481, 0.47559021,\n",
       "       0.52440979, 0.57286519, 0.62024429, 0.66588243, 0.70919016,\n",
       "       0.74967564, 0.78696026, 0.82078671, 0.8510196 , 0.87763906,\n",
       "       0.9007286 , 0.92045863, 0.93706737, 0.9508408 , 0.96209316,\n",
       "       0.97114927, 0.97832947, 0.98393771, 0.98825305, 0.99152418,\n",
       "       0.99396693, 0.99576396, 0.99706631, 0.99799612, 0.9986501 ])"
      ]
     },
     "execution_count": 9,
     "metadata": {},
     "output_type": "execute_result"
    }
   ],
   "source": [
    "xs=np.linspace(-3,3)\n",
    "ys=norm(0,1).cdf(xs)\n",
    "ys"
   ]
  },
  {
   "cell_type": "code",
   "execution_count": 7,
   "metadata": {},
   "outputs": [
    {
     "data": {
      "image/png": "[encoded data removed]",
      "text/plain": [
       "<Figure size 432x288 with 1 Axes>"
      ]
     },
     "metadata": {
      "needs_background": "light"
     },
     "output_type": "display_data"
    }
   ],
   "source": [
    "x=sns.kdeplot(sample)"
   ]
  },
  {
   "cell_type": "code",
   "execution_count": 8,
   "metadata": {},
   "outputs": [],
   "source": [
    "from scipy.stats import norm"
   ]
  },
  {
   "cell_type": "code",
   "execution_count": 11,
   "metadata": {},
   "outputs": [
    {
     "data": {
      "text/plain": [
       "[<matplotlib.lines.Line2D at 0x252654834c0>]"
      ]
     },
     "execution_count": 11,
     "metadata": {},
     "output_type": "execute_result"
    },
    {
     "data": {
      "image/png": "[encoded data removed]",
      "text/plain": [
       "<Figure size 432x288 with 1 Axes>"
      ]
     },
     "metadata": {
      "needs_background": "light"
     },
     "output_type": "display_data"
    }
   ],
   "source": [
    "plt.plot(xs,ys)"
   ]
  },
  {
   "cell_type": "code",
   "execution_count": 12,
   "metadata": {},
   "outputs": [
    {
     "data": {
      "text/plain": [
       "[<matplotlib.lines.Line2D at 0x252654f8310>]"
      ]
     },
     "execution_count": 12,
     "metadata": {},
     "output_type": "execute_result"
    },
    {
     "data": {
      "image/png": "[encoded data removed]",
      "text/plain": [
       "<Figure size 432x288 with 1 Axes>"
      ]
     },
     "metadata": {
      "needs_background": "light"
     },
     "output_type": "display_data"
    }
   ],
   "source": [
    "#comparing 2 pdfs\n",
    "x=sns.kdeplot(sample)\n",
    "plt.plot(xs,ys)"
   ]
  },
  {
   "cell_type": "code",
   "execution_count": null,
   "metadata": {},
   "outputs": [],
   "source": []
  }
 ],
 "metadata": {
  "kernelspec": {
   "display_name": "Python 3",
   "language": "python",
   "name": "python3"
  },
  "language_info": {
   "codemirror_mode": {
    "name": "ipython",
    "version": 3
   },
   "file_extension": ".py",
   "mimetype": "text/x-python",
   "name": "python",
   "nbconvert_exporter": "python",
   "pygments_lexer": "ipython3",
   "version": "3.8.5"
  }
 },
 "nbformat": 4,
 "nbformat_minor": 4
}
