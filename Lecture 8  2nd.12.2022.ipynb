{
 "cells": [
  {
   "cell_type": "markdown",
   "metadata": {},
   "source": [
    "# scikit-learn \n",
    "It's built on top of python\n",
    "API designed /built with\n",
    "1. consistence; objects\n",
    "2. Inspection; parameter attributes are exposed as public attributes\n",
    "3. Limited object hierachy ;\n",
    "4. Composition;\n",
    "5. Sensible defaults;\n",
    "\n",
    "Basics of the Scikit-learn API\n",
    "Most commonly steps in using scikit learn estimator API are as follows\n",
    "1. choose a class of model by importing the appropriate estimator(method) class from scikit-learn\n",
    "support vector machine\n",
    "Essemble method;{~random...foreset.model, forese...model}\n",
    "Logistic regression-binary nature\n",
    "Linear regression- continuos nature\n",
    "\n",
    "2. Choose model hyper parameters by (instantiating/calling/scheduling/beginning a session) the class with the desired values\n",
    "3. Arrange data into a features matrix, and a target vector following tthe discussions from matrix algebra\n",
    "4. Partion the data set....Creating a training dataset(learn) and a testing dataset(prredict/evaluate the method)\n",
    "5. Fit the data by calling the fit method, fit()\n",
    "6. Test your model on a new dataset\n",
    "\n",
    "# Supervised learning\n",
    "Supervised learning, also known as supervised machine learning, is a subcategory of machine learning and artificial intelligence. It is defined by its use of labeled datasets to train algorithms that to classify data or predict outcomes accurately.\n",
    "\n",
    "# Unsupervised learning\n",
    "Unsupervised learning is a type of machine learning algorithm that looks for patterns in a dataset without pre-existing labels. As the application of artificial intelligence continues to grow, it's important to know the different types of AI and machine learning available\n",
    "# Reinenforcement learning\n",
    "Reinforcement learning is a machine learning training method based on rewarding desired behaviors and/or punishing undesired ones. In general, a reinforcement learning agent is able to perceive and interpret its environment, take actions and learn through trial and error.\n",
    "\n",
    "\n"
   ]
  },
  {
   "cell_type": "code",
   "execution_count": null,
   "metadata": {},
   "outputs": [],
   "source": []
  },
  {
   "cell_type": "code",
   "execution_count": 5,
   "metadata": {},
   "outputs": [],
   "source": [
    "import numpy as np\n",
    "import matplotlib.pyplot as plt"
   ]
  },
  {
   "cell_type": "code",
   "execution_count": 8,
   "metadata": {},
   "outputs": [
    {
     "data": {
      "text/plain": [
       "RandomState(MT19937) at 0x11D6E41A040"
      ]
     },
     "execution_count": 8,
     "metadata": {},
     "output_type": "execute_result"
    }
   ],
   "source": [
    "rng=np.random.RandomState(42)\n",
    "#this is a class\n",
    "rng"
   ]
  },
  {
   "cell_type": "code",
   "execution_count": 35,
   "metadata": {},
   "outputs": [
    {
     "data": {
      "text/plain": [
       "array([2.94448892, 3.85097729, 8.51136672, 3.16922005, 1.69492747,\n",
       "       5.56801262, 9.36154774, 6.96029797, 5.7006117 , 0.97176494,\n",
       "       6.15007227, 9.9005385 , 1.40084015, 5.18329652, 8.77373072,\n",
       "       7.40768618, 6.97015741, 7.02484084, 3.59491151, 2.93591844,\n",
       "       8.09361155, 8.10113395, 8.67072319, 9.13240553, 5.11342399,\n",
       "       5.01516295, 7.98295179, 6.49963931, 7.01966877, 7.95792669,\n",
       "       8.90005342, 3.37995157, 3.75582953, 0.9398194 , 5.78280141,\n",
       "       0.35942274, 4.65598018, 5.42644635, 2.86541252, 5.90833261,\n",
       "       0.3050025 , 0.37348189, 8.22600561, 3.60190641, 1.27060513,\n",
       "       5.2224326 , 7.69993553, 2.15821027, 6.22890476, 0.85347465])"
      ]
     },
     "execution_count": 35,
     "metadata": {},
     "output_type": "execute_result"
    }
   ],
   "source": [
    "# creating a random state like scenario, simulating(create an imagine real world sth)\n",
    "x=10*rng.rand(50)\n",
    "x\n",
    "\n",
    "#y=mx+c"
   ]
  },
  {
   "cell_type": "code",
   "execution_count": 36,
   "metadata": {},
   "outputs": [
    {
     "data": {
      "text/plain": [
       "array([ 4.94065956,  7.2333092 , 16.56336855,  5.97587   ,  3.11594627,\n",
       "       11.11187733, 18.23939583, 13.24355241, 11.1964096 ,  1.21436213,\n",
       "       11.73911595, 18.87953338,  1.82703105, 10.32924146, 17.38344156,\n",
       "       14.51134656, 13.34926776, 13.222976  ,  6.34626007,  5.12207978,\n",
       "       15.73644977, 15.91686382, 17.00164375, 17.54474495, 10.18171326,\n",
       "        9.76822281, 15.52025763, 12.61099936, 13.45893761, 15.16358438,\n",
       "       17.15607952,  6.51774925,  6.52605254,  0.99571144, 10.61160546,\n",
       "       -0.24042572,  9.16742095, 10.55655055,  5.20499887, 10.91449937,\n",
       "        0.10162087,  0.22043555, 15.62521308,  6.63766448,  1.93971499,\n",
       "       10.0607153 , 15.03496471,  3.36172456, 11.83242213,  1.33280922])"
      ]
     },
     "execution_count": 36,
     "metadata": {},
     "output_type": "execute_result"
    }
   ],
   "source": [
    "y=2*x-1+rng.random(50)\n",
    "y"
   ]
  },
  {
   "cell_type": "code",
   "execution_count": 14,
   "metadata": {},
   "outputs": [
    {
     "data": {
      "text/plain": [
       "<matplotlib.collections.PathCollection at 0x11d718bf220>"
      ]
     },
     "execution_count": 14,
     "metadata": {},
     "output_type": "execute_result"
    },
    {
     "data": {
      "image/png": "[encoded data removed]",
      "text/plain": [
       "<Figure size 432x288 with 1 Axes>"
      ]
     },
     "metadata": {
      "needs_background": "light"
     },
     "output_type": "display_data"
    }
   ],
   "source": [
    "plt.scatter(x,y)\n",
    "#this sis highly correlated(we can draw tye line of the best fit)"
   ]
  },
  {
   "cell_type": "markdown",
   "metadata": {},
   "source": [
    "# 1. Choose a class model"
   ]
  },
  {
   "cell_type": "code",
   "execution_count": 22,
   "metadata": {},
   "outputs": [],
   "source": [
    "\n",
    "import sklearn "
   ]
  },
  {
   "cell_type": "code",
   "execution_count": 28,
   "metadata": {},
   "outputs": [],
   "source": [
    "from sklearn.linear_model import LinearRegression"
   ]
  },
  {
   "cell_type": "markdown",
   "metadata": {},
   "source": [
    "# 2. choose a model hyper parameters,, optimizing to get the best out of it\n",
    "#here u take on a number of decisions, do it carefully\n",
    " model with intecepts\n",
    " model on a normalized\n",
    " pre process the features\n",
    " regularization\n",
    " #5 comp(choosing different components)"
   ]
  },
  {
   "cell_type": "code",
   "execution_count": 30,
   "metadata": {},
   "outputs": [
    {
     "data": {
      "text/plain": [
       "LinearRegression()"
      ]
     },
     "execution_count": 30,
     "metadata": {},
     "output_type": "execute_result"
    }
   ],
   "source": [
    "model=LinearRegression(fit_intercept=True)\n",
    "model\n",
    "#here it stores the hyper parameter values"
   ]
  },
  {
   "cell_type": "markdown",
   "metadata": {},
   "source": [
    "# 3. Arrange data into features matrix(x) and target vector(y)\n"
   ]
  },
  {
   "cell_type": "code",
   "execution_count": 38,
   "metadata": {},
   "outputs": [
    {
     "data": {
      "text/plain": [
       "array([[2.94448892],\n",
       "       [3.85097729],\n",
       "       [8.51136672],\n",
       "       [3.16922005],\n",
       "       [1.69492747],\n",
       "       [5.56801262],\n",
       "       [9.36154774],\n",
       "       [6.96029797],\n",
       "       [5.7006117 ],\n",
       "       [0.97176494],\n",
       "       [6.15007227],\n",
       "       [9.9005385 ],\n",
       "       [1.40084015],\n",
       "       [5.18329652],\n",
       "       [8.77373072],\n",
       "       [7.40768618],\n",
       "       [6.97015741],\n",
       "       [7.02484084],\n",
       "       [3.59491151],\n",
       "       [2.93591844],\n",
       "       [8.09361155],\n",
       "       [8.10113395],\n",
       "       [8.67072319],\n",
       "       [9.13240553],\n",
       "       [5.11342399],\n",
       "       [5.01516295],\n",
       "       [7.98295179],\n",
       "       [6.49963931],\n",
       "       [7.01966877],\n",
       "       [7.95792669],\n",
       "       [8.90005342],\n",
       "       [3.37995157],\n",
       "       [3.75582953],\n",
       "       [0.9398194 ],\n",
       "       [5.78280141],\n",
       "       [0.35942274],\n",
       "       [4.65598018],\n",
       "       [5.42644635],\n",
       "       [2.86541252],\n",
       "       [5.90833261],\n",
       "       [0.3050025 ],\n",
       "       [0.37348189],\n",
       "       [8.22600561],\n",
       "       [3.60190641],\n",
       "       [1.27060513],\n",
       "       [5.2224326 ],\n",
       "       [7.69993553],\n",
       "       [2.15821027],\n",
       "       [6.22890476],\n",
       "       [0.85347465]])"
      ]
     },
     "execution_count": 38,
     "metadata": {},
     "output_type": "execute_result"
    }
   ],
   "source": [
    "#slicing the feature matrix\n",
    "x=x[:,np.newaxis]\n",
    "x"
   ]
  },
  {
   "cell_type": "code",
   "execution_count": 39,
   "metadata": {},
   "outputs": [
    {
     "data": {
      "text/plain": [
       "(50, 1)"
      ]
     },
     "execution_count": 39,
     "metadata": {},
     "output_type": "execute_result"
    }
   ],
   "source": [
    "x.shape"
   ]
  },
  {
   "cell_type": "markdown",
   "metadata": {},
   "source": [
    "# 4. Fit the model to your data"
   ]
  },
  {
   "cell_type": "code",
   "execution_count": 40,
   "metadata": {},
   "outputs": [
    {
     "data": {
      "text/plain": [
       "LinearRegression()"
      ]
     },
     "execution_count": 40,
     "metadata": {},
     "output_type": "execute_result"
    }
   ],
   "source": [
    "model.fit(x,y)"
   ]
  },
  {
   "cell_type": "markdown",
   "metadata": {},
   "source": [
    "#  Retrieve the model"
   ]
  },
  {
   "cell_type": "code",
   "execution_count": 41,
   "metadata": {},
   "outputs": [
    {
     "data": {
      "text/plain": [
       "array([2.01637987])"
      ]
     },
     "execution_count": 41,
     "metadata": {},
     "output_type": "execute_result"
    }
   ],
   "source": [
    "model.coef_"
   ]
  },
  {
   "cell_type": "code",
   "execution_count": 42,
   "metadata": {},
   "outputs": [
    {
     "data": {
      "text/plain": [
       "-0.62795119288403"
      ]
     },
     "execution_count": 42,
     "metadata": {},
     "output_type": "execute_result"
    }
   ],
   "source": [
    "model.intercept_"
   ]
  },
  {
   "cell_type": "code",
   "execution_count": null,
   "metadata": {},
   "outputs": [],
   "source": [
    "#All the above stages suggest that, we have made our model learn the data"
   ]
  },
  {
   "cell_type": "markdown",
   "metadata": {},
   "source": [
    "# 5 Predict labels of unknown data\n",
    "#thats the extrapolation\n",
    "evaluate it based on what it says that was not part of the training\n"
   ]
  },
  {
   "cell_type": "code",
   "execution_count": 43,
   "metadata": {},
   "outputs": [
    {
     "data": {
      "text/plain": [
       "array([-1.        , -0.75510204, -0.51020408, -0.26530612, -0.02040816,\n",
       "        0.2244898 ,  0.46938776,  0.71428571,  0.95918367,  1.20408163,\n",
       "        1.44897959,  1.69387755,  1.93877551,  2.18367347,  2.42857143,\n",
       "        2.67346939,  2.91836735,  3.16326531,  3.40816327,  3.65306122,\n",
       "        3.89795918,  4.14285714,  4.3877551 ,  4.63265306,  4.87755102,\n",
       "        5.12244898,  5.36734694,  5.6122449 ,  5.85714286,  6.10204082,\n",
       "        6.34693878,  6.59183673,  6.83673469,  7.08163265,  7.32653061,\n",
       "        7.57142857,  7.81632653,  8.06122449,  8.30612245,  8.55102041,\n",
       "        8.79591837,  9.04081633,  9.28571429,  9.53061224,  9.7755102 ,\n",
       "       10.02040816, 10.26530612, 10.51020408, 10.75510204, 11.        ])"
      ]
     },
     "execution_count": 43,
     "metadata": {},
     "output_type": "execute_result"
    }
   ],
   "source": [
    "#here we are using predict()\n",
    "xfit=np.linspace(-1,11)\n",
    "xfit"
   ]
  },
  {
   "cell_type": "code",
   "execution_count": 48,
   "metadata": {},
   "outputs": [],
   "source": [
    "xfit=xfit[:,np.newaxis]"
   ]
  },
  {
   "cell_type": "code",
   "execution_count": 49,
   "metadata": {},
   "outputs": [],
   "source": [
    "yfit=model.predict(xfit)"
   ]
  },
  {
   "cell_type": "code",
   "execution_count": 50,
   "metadata": {},
   "outputs": [
    {
     "data": {
      "text/plain": [
       "array([-2.64433106, -2.15052375, -1.65671643, -1.16290912, -0.6691018 ,\n",
       "       -0.17529449,  0.31851283,  0.81232014,  1.30612746,  1.79993477,\n",
       "        2.29374209,  2.7875494 ,  3.28135672,  3.77516403,  4.26897135,\n",
       "        4.76277867,  5.25658598,  5.7503933 ,  6.24420061,  6.73800793,\n",
       "        7.23181524,  7.72562256,  8.21942987,  8.71323719,  9.2070445 ,\n",
       "        9.70085182, 10.19465913, 10.68846645, 11.18227376, 11.67608108,\n",
       "       12.16988839, 12.66369571, 13.15750302, 13.65131034, 14.14511766,\n",
       "       14.63892497, 15.13273229, 15.6265396 , 16.12034692, 16.61415423,\n",
       "       17.10796155, 17.60176886, 18.09557618, 18.58938349, 19.08319081,\n",
       "       19.57699812, 20.07080544, 20.56461275, 21.05842007, 21.55222738])"
      ]
     },
     "execution_count": 50,
     "metadata": {},
     "output_type": "execute_result"
    }
   ],
   "source": [
    "yfit"
   ]
  },
  {
   "cell_type": "code",
   "execution_count": 51,
   "metadata": {},
   "outputs": [
    {
     "data": {
      "text/plain": [
       "<matplotlib.collections.PathCollection at 0x11d73e9dbb0>"
      ]
     },
     "execution_count": 51,
     "metadata": {},
     "output_type": "execute_result"
    },
    {
     "data": {
      "image/png": "[encoded data removed]",
      "text/plain": [
       "<Figure size 432x288 with 1 Axes>"
      ]
     },
     "metadata": {
      "needs_background": "light"
     },
     "output_type": "display_data"
    }
   ],
   "source": [
    "plt.scatter(xfit,yfit)"
   ]
  },
  {
   "cell_type": "code",
   "execution_count": 52,
   "metadata": {},
   "outputs": [
    {
     "data": {
      "text/plain": [
       "<matplotlib.collections.PathCollection at 0x11d718e7220>"
      ]
     },
     "execution_count": 52,
     "metadata": {},
     "output_type": "execute_result"
    },
    {
     "data": {
      "image/png": "[encoded data removed]",
      "text/plain": [
       "<Figure size 432x288 with 1 Axes>"
      ]
     },
     "metadata": {
      "needs_background": "light"
     },
     "output_type": "display_data"
    }
   ],
   "source": [
    "plt.scatter(x,y)"
   ]
  },
  {
   "cell_type": "code",
   "execution_count": 53,
   "metadata": {
    "scrolled": false
   },
   "outputs": [
    {
     "data": {
      "text/plain": [
       "<matplotlib.collections.PathCollection at 0x11d73f37e50>"
      ]
     },
     "execution_count": 53,
     "metadata": {},
     "output_type": "execute_result"
    },
    {
     "data": {
      "image/png": "[encoded data removed]",
      "text/plain": [
       "<Figure size 432x288 with 1 Axes>"
      ]
     },
     "metadata": {
      "needs_background": "light"
     },
     "output_type": "display_data"
    }
   ],
   "source": [
    "plt.scatter(x,y)\n",
    "plt.scatter(xfit,yfit)\n",
    "#here it creates a line of the best fit, hence it has predicted the data"
   ]
  },
  {
   "cell_type": "markdown",
   "metadata": {},
   "source": [
    "# Unsupervised machine learning\n",
    "has not seen this scenario before\n",
    "# Classifiers\n",
    "classification/grading\n",
    "models take in some parameter values\n",
    "The diff methods\n",
    "1. reduction method(PCA, principal component analysis)\n",
    "\n",
    "2. CLUSTERING METHOD divided into 2;\n",
    "\n",
    "1. K-means clustering(Dimension reduction method)\n",
    "2. Hierachal clustering\n",
    "\n",
    "# K-means clustering\n",
    "clustering alogarithms seek to learn from the properties of the data an optimal division or descrete labelling of groups of points. cas are available on scikit learn zand else where and the library we'll use is;;;;;;\n",
    "\n",
    "# sklearn.cluster.kmeans\n",
    "\n"
   ]
  },
  {
   "cell_type": "code",
   "execution_count": null,
   "metadata": {},
   "outputs": [],
   "source": []
  }
 ],
 "metadata": {
  "kernelspec": {
   "display_name": "Python 3",
   "language": "python",
   "name": "python3"
  },
  "language_info": {
   "codemirror_mode": {
    "name": "ipython",
    "version": 3
   },
   "file_extension": ".py",
   "mimetype": "text/x-python",
   "name": "python",
   "nbconvert_exporter": "python",
   "pygments_lexer": "ipython3",
   "version": "3.8.5"
  }
 },
 "nbformat": 4,
 "nbformat_minor": 4
}
